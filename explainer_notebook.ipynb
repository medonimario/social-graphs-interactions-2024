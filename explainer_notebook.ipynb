{
 "cells": [
  {
   "cell_type": "markdown",
   "metadata": {},
   "source": [
    "# Prelude: Imports and Definitions"
   ]
  },
  {
   "cell_type": "code",
   "execution_count": 1,
   "metadata": {},
   "outputs": [],
   "source": [
    "import networkx as nx\n",
    "import pickle\n",
    "import numpy as np\n",
    "\n",
    "# Set the directory for local pickle files\n",
    "PICKLE_DIR = \"pickle_files\"\n",
    "\n",
    "# Set the directory to downloads\n",
    "DOWNLOADS_DIR = \"downloads\"\n",
    "\n",
    "RANDOM_STATE = 42\n"
   ]
  },
  {
   "cell_type": "markdown",
   "metadata": {
    "id": "Osh4WeXAlsqn"
   },
   "source": [
    "# Prelude: Building the Network"
   ]
  },
  {
   "cell_type": "markdown",
   "metadata": {},
   "source": [
    "Contains the following:\n",
    "1. Imports and defining helper functions\n",
    "2. Scraping data from wikipedia and downloads it\n",
    "3. Building the network either from\n",
    "    - (A) Downloaded files\n",
    "    - (B) Local pickle file (created from last time A was run)\n",
    "4. Simple prelimenary data analysis of network"
   ]
  },
  {
   "cell_type": "code",
   "execution_count": null,
   "metadata": {},
   "outputs": [],
   "source": [
    "import shutil\n",
    "import os\n",
    "from wiki_utils import getJsonResponse, findLinks, build_graph_from_files\n",
    "if not os.path.exists(PICKLE_DIR):\n",
    "\t\tos.makedirs(PICKLE_DIR)"
   ]
  },
  {
   "cell_type": "markdown",
   "metadata": {},
   "source": [
    "## 2. Scraping data\n",
    "Fetches philosopher data from their wikipedia pages and downloads the wikipedia pages as `{philosopher_name}.txt` in a `downloads/` directory.\n",
    "\n",
    ">**NOTES**\n",
    "> 1. This takes a while to run\n",
    "> 2. It deletes all previous content in `downloads`\n",
    "> 3. Downloads all pages but skips pages with *no content* or *redirects*."
   ]
  },
  {
   "cell_type": "code",
   "execution_count": 3,
   "metadata": {
    "colab": {
     "base_uri": "https://localhost:8080/"
    },
    "id": "TyQyH8oTlrun",
    "outputId": "37757d18-7b4f-4765-e628-7552f76d05fe"
   },
   "outputs": [
    {
     "name": "stdout",
     "output_type": "stream",
     "text": [
      "Downloaded 1485 pages.\n",
      "Skipped 32 pages with no content.\n",
      "Skipped 249 redirect pages.\n"
     ]
    }
   ],
   "source": [
    "wiki_links = [\"List of philosophers (A–C)\", \"List of philosophers (D–H)\", \"List of philosophers (I–Q)\", \"List of philosophers (R–Z)\"]\n",
    "title_links = []\n",
    "\n",
    "verbose = False # Debug output during loops\n",
    "invalid_links = []  # Track titles that could not be saved\n",
    "redirect_links = []  # Track titles that are redirects\n",
    "\n",
    "# Delete and recreate the downloads directory\n",
    "if os.path.exists(DOWNLOADS_DIR):\n",
    "\tshutil.rmtree(DOWNLOADS_DIR)  # Delete the directory and all its contents\n",
    "os.makedirs(DOWNLOADS_DIR, exist_ok=True)  # Recreate the directory\n",
    "\n",
    "\n",
    "for wiki_link in wiki_links:\n",
    "  wiki_markup = getJsonResponse(wiki_link)\n",
    "  title_links.extend(findLinks(wiki_markup))\n",
    "\n",
    "# Remove irrelevant links if they exist\n",
    "for unwanted in [\"List_of_philosophers\", \"Philosopher\", \"Stanford_Encyclopedia_of_Philosophy\", \"Encyclopedia_of_Philosophy\", \"Routledge_Encyclopedia_of_Philosophy\", \"The_Cambridge_Dictionary_of_Philosophy\", \"The_Oxford_Companion_to_Philosophy\"]:\n",
    "\tif unwanted in title_links:\n",
    "\t\ttitle_links.remove(unwanted)\n",
    "\n",
    "# Writing to files (warning this takes a while)\n",
    "for title_link in title_links:\n",
    "\tall_wikitext = getJsonResponse(title_link)\n",
    "\tif not all_wikitext:\n",
    "\t\tif verbose: print(f\"Skipping '{title_link}' as it has no content.\")\n",
    "\t\tinvalid_links.append(title_link)  # Track invalid pages without modifying the list directly\n",
    "\t\tcontinue\n",
    "  \n",
    "  # Skip if the content starts with #REDIRECT\n",
    "\tif all_wikitext.strip().startswith(\"#REDIRECT\"):\n",
    "\t\tif verbose: print(f\"Skipping '{title_link}' as it is a redirect.\")\n",
    "\t\tredirect_links.append(title_link)  # Track redirect pages\n",
    "\t\tcontinue\n",
    "  \n",
    "\tfilename = os.path.join(DOWNLOADS_DIR, f\"{title_link}.txt\")\n",
    "\twith open(filename, \"w\", encoding=\"utf-8\") as file:\n",
    "\t\tfile.write(all_wikitext) # save all the wikitext into one file\n",
    "\n",
    "title_links = [link for link in title_links if link not in invalid_links + redirect_links]\n",
    "print(f\"Downloaded {len(title_links)} pages.\")\n",
    "print(f\"Skipped {len(invalid_links)} pages with no content.\")\n",
    "print(f\"Skipped {len(redirect_links)} redirect pages.\")"
   ]
  },
  {
   "cell_type": "markdown",
   "metadata": {},
   "source": [
    "## 3. Building the network "
   ]
  },
  {
   "cell_type": "markdown",
   "metadata": {},
   "source": [
    "- (A) Create from scratch \n",
    "From `downloads/`directory (saves local pickle file for later)"
   ]
  },
  {
   "cell_type": "code",
   "execution_count": 4,
   "metadata": {},
   "outputs": [
    {
     "name": "stdout",
     "output_type": "stream",
     "text": [
      "Nodes with self-loops: ['Pierre_Teilhard_de_Chardin', 'Plato', 'Otto_Rühle', 'Shen_Buhai']\n"
     ]
    }
   ],
   "source": [
    "S = build_graph_from_files(DOWNLOADS_DIR)\n",
    "pickle.dump(S, open(PICKLE_DIR + \"/graph.pkl\", \"wb\")) # Saved as local version for later use for (B)\n",
    "\n",
    "S_undirected = S.to_undirected()\n",
    "# Identify self-loop edges\n",
    "self_loops = list(nx.selfloop_edges(S_undirected))\n",
    "\n",
    "# Print nodes with self-loops\n",
    "print(f\"Nodes with self-loops: {[edge[0] for edge in self_loops]}\")\n",
    "\n",
    "# Remove self-loops\n",
    "S_undirected.remove_edges_from(self_loops)\n",
    "pickle.dump(S_undirected, open(PICKLE_DIR + \"/graph_undirected.pkl\", \"wb\")) # Saved as local version for later use for (B)"
   ]
  },
  {
   "cell_type": "markdown",
   "metadata": {},
   "source": [
    "- (B) OR use local version \n",
    "From `pickle` file created last time you ran (A)"
   ]
  },
  {
   "cell_type": "code",
   "execution_count": 5,
   "metadata": {},
   "outputs": [],
   "source": [
    "# load graph:\n",
    "S = pickle.load(open(PICKLE_DIR + \"/graph.pkl\", \"rb\"))\n",
    "S_undirected = pickle.load(open(PICKLE_DIR + \"/graph_undirected.pkl\", \"rb\"))"
   ]
  },
  {
   "cell_type": "markdown",
   "metadata": {
    "id": "cjvG2Qzn4JmN"
   },
   "source": [
    "## 4. Prelimenary data analysis"
   ]
  },
  {
   "cell_type": "code",
   "execution_count": 8,
   "metadata": {},
   "outputs": [
    {
     "name": "stdout",
     "output_type": "stream",
     "text": [
      "Number of nodes in S: 1366\n",
      "Number of edges in S: 10864, and in S_undirected: 9026\n",
      "Size of downloaded data: 48.60 MB\n"
     ]
    }
   ],
   "source": [
    "print(f\"Number of nodes in S: {S.number_of_nodes()}\")\n",
    "print(f\"Number of edges in S: {S.number_of_edges()}, and in S_undirected: {S_undirected.number_of_edges()}\")\n",
    "\n",
    "# Calculating total data size\n",
    "download_size = sum(os.path.getsize(os.path.join(DOWNLOADS_DIR, f)) for f in os.listdir(DOWNLOADS_DIR) if f.endswith(\".txt\"))\n",
    "download_size_mb = download_size / (1024 * 1024)  # Convert bytes to MB\n",
    "print(f\"Size of downloaded data: {download_size_mb:.2f} MB\")"
   ]
  },
  {
   "cell_type": "markdown",
   "metadata": {},
   "source": [
    "# Network Metrics"
   ]
  },
  {
   "cell_type": "markdown",
   "metadata": {},
   "source": [
    "## Imports and Definitions"
   ]
  },
  {
   "cell_type": "code",
   "execution_count": 2,
   "metadata": {},
   "outputs": [],
   "source": [
    "# Install powerlaw if not already installed\n",
    "#%pip install powerlaw\n",
    "from network_utils import grow_Barabasi_Albert_graph, compute_network_metrics\n",
    "import random\n",
    "import matplotlib.pyplot as plt\n",
    "import powerlaw\n",
    "import warnings\n",
    "from scipy.stats import poisson, expon, lognorm\n",
    "# Ignore warnings from powerlaw package\n",
    "warnings.filterwarnings(\"ignore\")\n"
   ]
  },
  {
   "cell_type": "code",
   "execution_count": 3,
   "metadata": {},
   "outputs": [
    {
     "name": "stdout",
     "output_type": "stream",
     "text": [
      "Number of nodes: 1366\n",
      "Number of edges: 9026\n"
     ]
    }
   ],
   "source": [
    "# load graph:\n",
    "S_undirected = pickle.load(open(PICKLE_DIR + \"/graph_undirected.pkl\", \"rb\"))\n",
    "print(f\"Number of nodes: {S_undirected.number_of_nodes()}\")\n",
    "print(f\"Number of edges: {S_undirected.number_of_edges()}\")\n",
    "\n",
    "n_nodes = S_undirected.number_of_nodes()\n",
    "n_edges = S_undirected.number_of_edges()"
   ]
  },
  {
   "cell_type": "markdown",
   "metadata": {},
   "source": [
    "## Comparison to Barabasi-Albert graph"
   ]
  },
  {
   "cell_type": "code",
   "execution_count": 4,
   "metadata": {},
   "outputs": [
    {
     "name": "stdout",
     "output_type": "stream",
     "text": [
      "Using m = 7 to approximate E = 9026\n"
     ]
    }
   ],
   "source": [
    "random.seed(RANDOM_STATE)\n",
    "F_BA = grow_Barabasi_Albert_graph(n=n_nodes, E=n_edges)"
   ]
  },
  {
   "cell_type": "code",
   "execution_count": 5,
   "metadata": {},
   "outputs": [
    {
     "name": "stdout",
     "output_type": "stream",
     "text": [
      "Number of nodes: 1366\n",
      "Number of edges: 9534\n"
     ]
    }
   ],
   "source": [
    "print(f\"Number of nodes: {F_BA.number_of_nodes()}\")\n",
    "print(f\"Number of edges: {F_BA.number_of_edges()}\")"
   ]
  },
  {
   "cell_type": "code",
   "execution_count": 6,
   "metadata": {},
   "outputs": [
    {
     "data": {
      "image/png": "[encoded data removed]",
      "text/plain": [
       "<Figure size 800x600 with 1 Axes>"
      ]
     },
     "metadata": {},
     "output_type": "display_data"
    },
    {
     "data": {
      "image/png": "[encoded data removed]",
      "text/plain": [
       "<Figure size 640x480 with 1 Axes>"
      ]
     },
     "metadata": {},
     "output_type": "display_data"
    }
   ],
   "source": [
    "# Plotting the degree distributions\n",
    "degree_sequence_F_BA = sorted([d for n, d in F_BA.degree()], reverse=True)\n",
    "degree_sequence_S_undirected = sorted([d for n, d in S_undirected.degree()], reverse=True)\n",
    "\n",
    "## Plot setup\n",
    "plt.figure(figsize=(8, 6))\n",
    "\n",
    "## Plotting the degree distribution as a linear plot\n",
    "plt.plot(degree_sequence_F_BA, 'b-', label='Barabasi-Albert')\n",
    "plt.plot(degree_sequence_S_undirected, 'r-', label='Network S_undirected')\n",
    "\n",
    "plt.xlabel('Degree')\n",
    "plt.ylabel('# of Nodes')\n",
    "plt.title('In and Out Degree Distribution of Network S')\n",
    "plt.legend()\n",
    "plt.show()\n",
    "\n",
    "\n",
    "## Plotting the degree distribution as a log-log plot\n",
    "plt.loglog(degree_sequence_F_BA, 'b-', label='Barabasi-Albert')\n",
    "plt.loglog(degree_sequence_S_undirected, 'r-', label='Network S_undirected')\n",
    "\n",
    "plt.xlabel('Degree (log scale)')\n",
    "plt.ylabel('# of Nodes (log scale)')\n",
    "plt.title('Log-Log In and Out Degree Distribution of Network S_undirected')\n",
    "plt.legend()\n",
    "plt.show()"
   ]
  },
  {
   "cell_type": "code",
   "execution_count": 7,
   "metadata": {},
   "outputs": [
    {
     "name": "stdout",
     "output_type": "stream",
     "text": [
      "Philosopher Wikipedia Graph Metrics:\n",
      "global_clustering: 0.12\n",
      "average_clustering: 0.28\n",
      "assortativity: -0.11\n",
      "num_connected_components: 1.00\n",
      "largest_component_size: 1366.00\n",
      "average_shortest_path: 3.04\n",
      "diameter: 8.00\n",
      "\n",
      "Barabási-Albert Graph Metrics:\n",
      "global_clustering: 0.03\n",
      "average_clustering: 0.04\n",
      "assortativity: -0.03\n",
      "num_connected_components: 1.00\n",
      "largest_component_size: 1366.00\n",
      "average_shortest_path: 2.82\n",
      "diameter: 4.00\n"
     ]
    }
   ],
   "source": [
    "# Compute metrics for both graphs\n",
    "wiki_metrics = compute_network_metrics(S_undirected)\n",
    "ba_metrics = compute_network_metrics(F_BA)\n",
    "\n",
    "# Compare metrics\n",
    "print(\"Philosopher Wikipedia Graph Metrics:\")\n",
    "for key, value in wiki_metrics.items():\n",
    "    if key not in ['degree_histogram', 'degree_centrality']:\n",
    "        print(f\"{key}: {value:.2f}\")\n",
    "        \n",
    "print(\"\\nBarabási-Albert Graph Metrics:\")\n",
    "for key, value in ba_metrics.items():\n",
    "    if key not in ['degree_histogram', 'degree_centrality']:\n",
    "        print(f\"{key}: {value:.2f}\")"
   ]
  },
  {
   "cell_type": "markdown",
   "metadata": {},
   "source": [
    "## Model Fitting"
   ]
  },
  {
   "cell_type": "code",
   "execution_count": 31,
   "metadata": {},
   "outputs": [
    {
     "name": "stdout",
     "output_type": "stream",
     "text": [
      "Minimum degree: 1\n",
      "Maximum degree: 270\n",
      "\n",
      "Model fitting results:\n",
      "-----------------------\n",
      "Log-Likelihoods:\n",
      "-Poisson: -12895.2\n",
      "-Exponential: -4892.2\n",
      "-Log-Normal: -4763.7\n",
      "-Power-Law: -5100.4\n",
      "\n",
      "AIC values:\n",
      "-Poisson: 25792.30 \n",
      "-Exponential: 9786.30 \n",
      "-Log-Normal: 9531.48 <- Best fit\n",
      "-Power-Law: 10204.88 \n",
      "\n",
      "BIC Values:\n",
      "-Poisson: 25797.5 \n",
      "-Exponential: 9791.5 \n",
      "-Log-Normal: 9541.9 <- Best fit\n",
      "-Power-Law: 10215.3 \n",
      "\n",
      "Estimated parameters:\n",
      "---------------------\n",
      "Poisson lambda: 13.22\n",
      "Exponential lambda: 0.0757\n",
      "Log-Normal sigma: 1.0421, scale: 7.59\n",
      "Power-Law alpha: 1.49, xmin: 1.0\n"
     ]
    }
   ],
   "source": [
    "# Step 1: Extract the degree sequence\n",
    "degrees = np.array([d for n, d in S_undirected.degree()])\n",
    "print(f\"Minimum degree: {np.min(degrees)}\")\n",
    "print(f\"Maximum degree: {np.max(degrees)}\")\n",
    "\n",
    "# Step 2: Fit candidate distributions using MLE\n",
    "\n",
    "# 2a. Poisson Distribution\n",
    "lambda_poisson = np.mean(degrees)\n",
    "log_likelihood_poisson = np.sum(poisson.logpmf(degrees, lambda_poisson))\n",
    "\n",
    "# 2b. Exponential Distribution (continuous approximation)\n",
    "params_exp = expon.fit(degrees, floc=0)  # Fix loc=0\n",
    "lambda_exp = 1 / params_exp[1]  # Scale parameter is 1/lambda\n",
    "log_likelihood_exp = np.sum(expon.logpdf(degrees, *params_exp))\n",
    "\n",
    "# 2c. Log-Normal Distribution\n",
    "params_lognorm = lognorm.fit(degrees[degrees > 0], floc=0)  # Exclude zeros\n",
    "sigma_lognorm, loc_lognorm, scale_lognorm = params_lognorm\n",
    "log_likelihood_lognorm = np.sum(lognorm.logpdf(degrees[degrees > 0], *params_lognorm))\n",
    "\n",
    "# 2d. Power-Law Distribution\n",
    "fit = powerlaw.Fit(degrees, xmin=1)\n",
    "alpha_powerlaw = fit.power_law.alpha\n",
    "xmin_powerlaw = fit.power_law.xmin\n",
    "log_likelihood_powerlaw = fit.power_law.loglikelihoods(degrees).sum()\n",
    "\n",
    "# Step 3: Compute AIC and BIC for each model\n",
    "n = len(degrees)\n",
    "\n",
    "# Poisson\n",
    "k_poisson = 1  # lambda\n",
    "AIC_poisson = 2 * k_poisson - 2 * log_likelihood_poisson\n",
    "BIC_poisson = k_poisson * np.log(n) - 2 * log_likelihood_poisson\n",
    "\n",
    "# Exponential\n",
    "k_exp = 1  # lambda\n",
    "AIC_exp = 2 * k_exp - 2 * log_likelihood_exp\n",
    "BIC_exp = k_exp * np.log(n) - 2 * log_likelihood_exp\n",
    "\n",
    "# Log-Normal\n",
    "n_lognorm = len(degrees[degrees > 0])\n",
    "k_lognorm = 2  # sigma and scale\n",
    "AIC_lognorm = 2 * k_lognorm - 2 * log_likelihood_lognorm\n",
    "BIC_lognorm = k_lognorm * np.log(n_lognorm) - 2 * log_likelihood_lognorm\n",
    "\n",
    "# Power-Law\n",
    "n_powerlaw = len(degrees[degrees >= xmin_powerlaw])\n",
    "k_powerlaw = 2  # alpha and xmin\n",
    "AIC_powerlaw = 2 * k_powerlaw - 2 * log_likelihood_powerlaw\n",
    "BIC_powerlaw = k_powerlaw * np.log(n_powerlaw) - 2 * log_likelihood_powerlaw\n",
    "\n",
    "# Step 4: Select the best-fitting model based on AIC and BIC\n",
    "AICs = {\n",
    "    'Poisson': AIC_poisson,\n",
    "    'Exponential': AIC_exp,\n",
    "    'Log-Normal': AIC_lognorm,\n",
    "    'Power-Law': AIC_powerlaw\n",
    "}\n",
    "\n",
    "BICs = {\n",
    "    'Poisson': BIC_poisson,\n",
    "    'Exponential': BIC_exp,\n",
    "    'Log-Normal': BIC_lognorm,\n",
    "    'Power-Law': BIC_powerlaw\n",
    "}\n",
    "\n",
    "best_fit_aic = min(AICs, key=AICs.get)\n",
    "best_fit_bic = min(BICs, key=BICs.get)\n",
    "\n",
    "# Output results\n",
    "print(\"\\nModel fitting results:\")\n",
    "print(\"-----------------------\")\n",
    "print(\"Log-Likelihoods:\")\n",
    "print(f\"-Poisson: {log_likelihood_poisson:.1f}\")\n",
    "print(f\"-Exponential: {log_likelihood_exp:.1f}\")\n",
    "print(f\"-Log-Normal: {log_likelihood_lognorm:.1f}\")\n",
    "print(f\"-Power-Law: {log_likelihood_powerlaw:.1f}\")\n",
    "\n",
    "print(f\"\\nAIC values:\")\n",
    "for dist, aic in AICs.items():\n",
    "    print(f\"-{dist}: {aic:.2f} {'<- Best fit' if dist == best_fit_aic else ''}\")\n",
    "\n",
    "print(f\"\\nBIC Values:\")\n",
    "for dist, bic in BICs.items():\n",
    "    print(f\"-{dist}: {bic:.1f} {'<- Best fit' if dist == best_fit_bic else ''}\")\n",
    "\n",
    "print(\"\\nEstimated parameters:\")\n",
    "print(\"---------------------\")\n",
    "print(f\"Poisson lambda: {lambda_poisson:.2f}\")\n",
    "print(f\"Exponential lambda: {lambda_exp:.4f}\")\n",
    "print(f\"Log-Normal sigma: {sigma_lognorm:.4f}, scale: {scale_lognorm:.2f}\")\n",
    "print(f\"Power-Law alpha: {alpha_powerlaw:.2f}, xmin: {xmin_powerlaw}\")\n"
   ]
  },
  {
   "cell_type": "markdown",
   "metadata": {},
   "source": [
    "# Communities"
   ]
  },
  {
   "cell_type": "code",
   "execution_count": 1,
   "metadata": {},
   "outputs": [],
   "source": [
    "import pickle\n",
    "import os\n",
    "import re\n",
    "from wiki_utils import get_category_data\n",
    "from network_utils import filter_graph_by_attribute, count_nodes_by_attribute\n",
    "from community import community_louvain\n",
    "import networkx as nx\n",
    "import networkx.algorithms.community as nx_comm\n",
    "import numpy as np\n",
    "import matplotlib.pyplot as plt\n",
    "from collections import Counter\n",
    "\n",
    "# load graph:\n",
    "S = pickle.load(open(PICKLE_DIR + \"/graph.pkl\", \"rb\"))\n",
    "S_undirected = pickle.load(open(PICKLE_DIR + \"/graph_undirected.pkl\", \"rb\"))"
   ]
  },
  {
   "cell_type": "markdown",
   "metadata": {},
   "source": [
    "## Extraction using `subfields` and `tradition`"
   ]
  },
  {
   "cell_type": "markdown",
   "metadata": {},
   "source": [
    "### (A) Extracting `subfield`\n",
    "From https://en.wikipedia.org/wiki/Lists_of_philosophers"
   ]
  },
  {
   "cell_type": "markdown",
   "metadata": {},
   "source": [
    "#### (A.1) Fetching data\n",
    "Two options are below either\n",
    "- `Option 1`: Fetching data anew from Wikipedia\n",
    "- `Option 2`: Using pickle file from last time option 1 was run"
   ]
  },
  {
   "cell_type": "code",
   "execution_count": null,
   "metadata": {},
   "outputs": [],
   "source": [
    "subfield_links = [\n",
    "\t\t\"List of aestheticians\",\n",
    "\t\t\"List of critical theorists\",\n",
    "\t\t\"List of environmental philosophers\",\n",
    "\t\t\"List of epistemologists\",\n",
    "\t\t\"List of ethicists\",\n",
    "\t\t\"List of existentialists\",\n",
    "\t\t\"List of feminist philosophers\",\n",
    "\t\t\"List of secular humanists\", #List of Humanists redirect\n",
    "\t\t\"List of logicians\",\n",
    "\t\t\"List of metaphysicians\",\n",
    "\t\t\"Index of sociopolitical thinkers\", #List of Social and Political Philosophers redirect\n",
    "\t\t\"List of phenomenologists\",\n",
    "\t\t\"List of philosophers of language\",\n",
    "\t\t\"List of philosophers of mind\",\n",
    "\t\t\"List of philosophers of religion\",\n",
    "\t\t\"List of philosophers of science\",\n",
    "\t\t\"List of political philosophers\",\n",
    "\t\t\"List of political theorists\",\n",
    "\t\t\"List of rationalists\",\n",
    "\t\t\"List of utilitarians\"\n",
    "]"
   ]
  },
  {
   "cell_type": "markdown",
   "metadata": {},
   "source": [
    "##### -> `Option 1`: **Fetch the data from Wikipedia** (takes around 5 seconds)"
   ]
  },
  {
   "cell_type": "code",
   "execution_count": null,
   "metadata": {},
   "outputs": [
    {
     "name": "stdout",
     "output_type": "stream",
     "text": [
      "- aestheticians: 86\n",
      "- critical theorists: 107\n",
      "- environmental philosophers: 80\n",
      "- epistemologists: 122\n",
      "- ethicists: 287\n",
      "- existentialists: 60\n",
      "- feminist philosophers: 134\n",
      "- secular humanists: 413\n",
      "- logicians: 291\n",
      "- metaphysicians: 185\n",
      "- sociopolitical thinkers: 245\n",
      "- phenomenologists: 24\n",
      "- philosophers of language: 141\n",
      "- philosophers of mind: 140\n",
      "- philosophers of religion: 110\n",
      "- philosophers of science: 111\n",
      "- political philosophers: 199\n",
      "- political theorists: 137\n",
      "- rationalists: 27\n",
      "- utilitarians: 104\n",
      "Total = 2183\n"
     ]
    }
   ],
   "source": [
    "replace_terms_subfields = [(\"List of\", \"\"), (\"Index of\", \"\")]\n",
    "clean_subfield_data, philosopher_subfield_info = get_category_data(\n",
    "    subfield_links, replace_terms_subfields, verbose=True\n",
    ")\n",
    "pickle.dump(philosopher_subfield_info, open(PICKLE_DIR + \"/philosopher_subfield_info.pkl\", \"wb\")) # Saved as local version for later use\n",
    "\n",
    "print(\"Total =\", len(philosopher_subfield_info))"
   ]
  },
  {
   "cell_type": "markdown",
   "metadata": {},
   "source": [
    "##### -> `Option 2`: **Use local pickle file** from last time option 1 was run"
   ]
  },
  {
   "cell_type": "code",
   "execution_count": null,
   "metadata": {},
   "outputs": [],
   "source": [
    "philosopher_subfield_info = pickle.load(open(PICKLE_DIR + \"/philosopher_subfield_info.pkl\", \"rb\"))"
   ]
  },
  {
   "cell_type": "markdown",
   "metadata": {},
   "source": [
    "#### (A.2) Creating `S.subfields` network"
   ]
  },
  {
   "cell_type": "code",
   "execution_count": null,
   "metadata": {},
   "outputs": [
    {
     "name": "stdout",
     "output_type": "stream",
     "text": [
      "Did not find subfields for: 771 philosophers (therefore not included in the filtered graph)\n",
      " -> Example of removed nodes: ['John_Selden', 'John_Maynard_Keynes', 'Thomas_of_York_(Franciscan)']\n",
      "Original graph: 1366 nodes and 9023 edges\n",
      "Filtered 'subfields' graph: 595 nodes and 4232 edges\n",
      "--------------------------------------------------\n",
      "Number of nodes by subfields:\n",
      " -> epistemologists: 78\n",
      " -> ethicists: 115\n",
      " -> philosophers of religion: 49\n",
      " -> logicians: 89\n",
      " -> metaphysicians: 119\n",
      " -> philosophers of language: 68\n",
      " -> sociopolitical thinkers: 131\n",
      " -> philosophers of mind: 57\n",
      " -> utilitarians: 29\n",
      " -> political philosophers: 135\n",
      " -> aestheticians: 51\n",
      " -> existentialists: 7\n",
      " -> feminist philosophers: 23\n",
      " -> political theorists: 73\n",
      " -> philosophers of science: 45\n",
      " -> critical theorists: 41\n",
      " -> secular humanists: 34\n",
      " -> phenomenologists: 11\n",
      " -> rationalists: 17\n",
      " -> environmental philosophers: 8\n",
      "--------------------------------------------------\n"
     ]
    }
   ],
   "source": [
    "S_subfields = filter_graph_by_attribute(\n",
    "    graph=S_undirected,\n",
    "    attribute_info=philosopher_subfield_info,\n",
    "    attribute_name='subfields',\n",
    "    verbose=True\n",
    ")\n",
    "print(\"-\"*50)\n",
    "count_nodes_by_attribute(S_subfields, 'subfields', verbose=True)\n",
    "print(\"-\"*50)\n"
   ]
  },
  {
   "cell_type": "markdown",
   "metadata": {},
   "source": [
    "### (B) Using `tradition` (western/eastern divide)"
   ]
  },
  {
   "cell_type": "markdown",
   "metadata": {},
   "source": [
    "#### (B.1) Extracting information from wikipedia"
   ]
  },
  {
   "cell_type": "markdown",
   "metadata": {},
   "source": [
    "Two options are below either\n",
    "- `Option 1`: Fetching data anew from Wikipedia\n",
    "- `Option 2`: Using pickle file from last time option 1 was run"
   ]
  },
  {
   "cell_type": "markdown",
   "metadata": {},
   "source": [
    "##### -> `Option 1`: Extract from wikipedia"
   ]
  },
  {
   "cell_type": "code",
   "execution_count": null,
   "metadata": {},
   "outputs": [
    {
     "name": "stdout",
     "output_type": "stream",
     "text": [
      "- Eastern philosophers: 343\n",
      "- Western philosophers: 565\n",
      "Total = 893\n"
     ]
    }
   ],
   "source": [
    "tradition_links = [\n",
    "\t\"Timeline of Eastern philosophers\",\n",
    "\t\"Timeline of Western philosophers\"\n",
    "]\n",
    "\n",
    "replace_terms_traditions = [(\"Timeline of\", \"\")]\n",
    "clean_tradition_data, philosopher_tradition_info = get_category_data(\n",
    "    tradition_links, replace_terms_traditions, verbose=True\n",
    ")\n",
    "pickle.dump(philosopher_tradition_info, open(PICKLE_DIR + \"/philosopher_tradition_info.pkl\", \"wb\")) # Saved as local version for later use\n",
    "print(\"Total =\", len(philosopher_tradition_info))"
   ]
  },
  {
   "cell_type": "markdown",
   "metadata": {},
   "source": [
    "##### -> `Option 2`: **Use local pickle file** from last time option 1 was run"
   ]
  },
  {
   "cell_type": "code",
   "execution_count": null,
   "metadata": {},
   "outputs": [],
   "source": [
    "philosopher_tradition_info = pickle.load(open(PICKLE_DIR + \"/philosopher_tradition_info.pkl\", \"rb\"))"
   ]
  },
  {
   "cell_type": "markdown",
   "metadata": {},
   "source": [
    "#### (B.2) Creating `S_tradition` network"
   ]
  },
  {
   "cell_type": "code",
   "execution_count": null,
   "metadata": {},
   "outputs": [
    {
     "name": "stdout",
     "output_type": "stream",
     "text": [
      "Did not find tradition for: 1020 philosophers (therefore not included in the filtered graph)\n",
      " -> Example of removed nodes: ['John_Selden', 'John_Maynard_Keynes', 'Thomas_of_York_(Franciscan)']\n",
      "Original graph: 1366 nodes and 9023 edges\n",
      "Filtered 'tradition' graph: 346 nodes and 2562 edges\n",
      "--------------------------------------------------\n",
      "Number of nodes by tradition:\n",
      " -> Western philosophers: 279\n",
      " -> Eastern philosophers: 69\n",
      "--------------------------------------------------\n"
     ]
    }
   ],
   "source": [
    "S_tradition = filter_graph_by_attribute(\n",
    "    graph=S_undirected,\n",
    "    attribute_info=philosopher_tradition_info,\n",
    "    attribute_name='tradition',\n",
    "    verbose=True\n",
    ")\n",
    "\n",
    "print(\"-\"*50)\n",
    "count_nodes_by_attribute(S_tradition, 'tradition', verbose=True)\n",
    "print(\"-\"*50)"
   ]
  },
  {
   "cell_type": "markdown",
   "metadata": {},
   "source": [
    "## Partitioning"
   ]
  },
  {
   "cell_type": "markdown",
   "metadata": {},
   "source": [
    "### Imports and definitions"
   ]
  },
  {
   "cell_type": "code",
   "execution_count": null,
   "metadata": {},
   "outputs": [],
   "source": [
    "from community import community_louvain\n",
    "import networkx as nx\n",
    "import networkx.algorithms.community as nx_comm\n",
    "import numpy as np\n",
    "import matplotlib.pyplot as plt\n",
    "from collections import Counter\n",
    "from sklearn.cluster import KMeans\n",
    "\n",
    "def create_partition_using_attribute(graph, attribute_name):\n",
    "\tpartition = {}\n",
    "\tfor node, data in graph.nodes(data=True):\n",
    "\t\tattribute = data.get(attribute_name)\n",
    "\t\tif isinstance(attribute, list):\n",
    "\t\t\tattribute = attribute[0]\n",
    "\t\tif attribute is not None:\n",
    "\t\t\t\tpartition[node] = attribute\n",
    "\treturn partition\n",
    "\n",
    "def get_louvain_modularity(graph, partition_dict):\n",
    "\treturn f\"{community_louvain.modularity(partition_dict, graph):.4f}\"\n",
    "\n",
    "def plot_partition_heatmap(graph, attribute_partition, louvain_partition, attribute_name, top_n=7, title=\"Confusion Matrix\"):\n",
    "    \"\"\"\n",
    "    Plots a confusion matrix heatmap comparing attribute-based partition and Louvain community partition.\n",
    "\n",
    "    Args:\n",
    "        graph (networkx.Graph): The graph to analyze.\n",
    "        attribute_partition (dict): Partition mapping nodes to their attributes.\n",
    "        louvain_partition (dict): Louvain partition mapping nodes to communities.\n",
    "        attribute_name (str): Name of the attribute (e.g., 'subfields' or 'tradition').\n",
    "        top_n (int): Number of top attributes and communities to consider for the heatmap.\n",
    "        title (str): Title of the heatmap.\n",
    "    \"\"\"\n",
    "    # Step 1: Identify top attributes and communities\n",
    "    attribute_counts = Counter(attribute_partition.values())\n",
    "    top_attributes = [attribute for attribute, _ in attribute_counts.most_common(top_n)]\n",
    "\n",
    "    community_counts = Counter(louvain_partition.values())\n",
    "    top_communities = [community for community, _ in community_counts.most_common(top_n)]\n",
    "\n",
    "    # Step 2: Map attributes and communities to matrix indices\n",
    "    attribute_to_index = {attribute: idx for idx, attribute in enumerate(top_attributes)}\n",
    "    community_to_index = {community: idx for idx, community in enumerate(top_communities)}\n",
    "\n",
    "    # Step 3: Initialize confusion matrix D\n",
    "    D = np.zeros((top_n, top_n), dtype=int)\n",
    "\n",
    "    # Step 4: Populate the confusion matrix\n",
    "    for node in graph.nodes:\n",
    "        attribute = attribute_partition.get(node)  # Get node's attribute\n",
    "        community = louvain_partition.get(node)  # Get node's Louvain community\n",
    "\n",
    "        # Only consider top attributes and communities\n",
    "        if community in community_to_index and attribute in attribute_to_index:\n",
    "            i = attribute_to_index[attribute]\n",
    "            j = community_to_index[community]\n",
    "            D[i, j] += 1\n",
    "\n",
    "    # Step 5: Create the heatmap\n",
    "    plt.figure(figsize=(7, 7))\n",
    "    plt.imshow(D, interpolation='nearest', cmap='Blues')\n",
    "\n",
    "    # Add text annotations for each cell\n",
    "    for i in range(D.shape[0]):\n",
    "        for j in range(D.shape[1]):\n",
    "            plt.text(j, i, int(D[i, j]), ha=\"center\", va=\"center\", color=\"black\")\n",
    "\n",
    "    # Add titles, labels, and ticks\n",
    "    plt.title(title)\n",
    "    plt.xlabel('Communities')\n",
    "    plt.ylabel(f'{attribute_name.capitalize()}')\n",
    "\n",
    "    # Set tick labels\n",
    "    plt.xticks(np.arange(len(top_communities)), [f\"C {c}\" for c in top_communities])\n",
    "    plt.yticks(np.arange(len(top_attributes)), top_attributes)\n",
    "\n",
    "    # Add a color bar\n",
    "    plt.colorbar()\n",
    "    plt.show()"
   ]
  },
  {
   "cell_type": "markdown",
   "metadata": {},
   "source": [
    "### (A) Partitioning using `S_subfields`"
   ]
  },
  {
   "cell_type": "markdown",
   "metadata": {},
   "source": [
    "Each node is characterized by the first `subfield` if there are multiple."
   ]
  },
  {
   "cell_type": "code",
   "execution_count": null,
   "metadata": {},
   "outputs": [
    {
     "name": "stdout",
     "output_type": "stream",
     "text": [
      "Subfields partion Modularity =  0.0874\n",
      "Louvain partion Modularity =  0.4280\n"
     ]
    }
   ],
   "source": [
    "subfields_partition = create_partition_using_attribute(S_subfields, 'subfields')\n",
    "subfields_partition_modularity = get_louvain_modularity(S_subfields, subfields_partition)\n",
    "print(\"Subfields partion Modularity = \", subfields_partition_modularity)\n",
    "\n",
    "louvain_partition_S_subfields = community_louvain.best_partition(S_subfields, random_state=RANDOM_STATE)\n",
    "print(\"Louvain partion Modularity = \", get_louvain_modularity(S_subfields, louvain_partition_S_subfields))\n",
    "\n",
    "# louvain_partition_S_subfields_kmeans = louvain_kmeans_partition(S_subfields, len(subfield_links))\n",
    "# print(\"Louvain partion (with KMeans community limit) Modularity = \", get_louvain_modularity(S_subfields, louvain_partition_S_subfields_kmeans))"
   ]
  },
  {
   "cell_type": "code",
   "execution_count": null,
   "metadata": {},
   "outputs": [
    {
     "data": {
      "image/png": "[encoded data removed]",
      "text/plain": [
       "<Figure size 700x700 with 2 Axes>"
      ]
     },
     "metadata": {},
     "output_type": "display_data"
    }
   ],
   "source": [
    "plot_partition_heatmap(\n",
    "    graph=S_subfields,\n",
    "    attribute_partition=subfields_partition,\n",
    "    louvain_partition=louvain_partition_S_subfields,\n",
    "    attribute_name='subfields',\n",
    "    title='Confusion Matrix (Subfields vs Communities)'\n",
    ")"
   ]
  },
  {
   "cell_type": "markdown",
   "metadata": {},
   "source": [
    "### (B) Partitioning using `S_tradition`"
   ]
  },
  {
   "cell_type": "code",
   "execution_count": null,
   "metadata": {},
   "outputs": [
    {
     "name": "stdout",
     "output_type": "stream",
     "text": [
      "Tradition partion Modularity =  0.0802\n",
      "Louvain partion Modularity =  0.3973\n"
     ]
    }
   ],
   "source": [
    "tradition_partition = create_partition_using_attribute(S_tradition, 'tradition')\n",
    "tradition_partition_modularity = get_louvain_modularity(S_tradition, tradition_partition)\n",
    "\n",
    "print(\"Tradition partion Modularity = \", tradition_partition_modularity)\n",
    "\n",
    "louvain_partition_S_tradition = community_louvain.best_partition(S_tradition, random_state=RANDOM_STATE)\n",
    "print(\"Louvain partion Modularity = \", get_louvain_modularity(S_tradition, louvain_partition_S_tradition))\n",
    "\n",
    "# louvain_partition_S_tradition_kmeans = louvain_kmeans_partition(S_tradition, 2)\n",
    "# print(\"Louvain partion (with KMeans community limit) Modularity = \", get_louvain_modularity(S_tradition, louvain_partition_S_tradition_kmeans))"
   ]
  },
  {
   "cell_type": "code",
   "execution_count": null,
   "metadata": {},
   "outputs": [
    {
     "data": {
      "image/png": "[encoded data removed]",
      "text/plain": [
       "<Figure size 700x700 with 2 Axes>"
      ]
     },
     "metadata": {},
     "output_type": "display_data"
    }
   ],
   "source": [
    "plot_partition_heatmap(\n",
    "    graph=S_tradition,\n",
    "    attribute_partition=tradition_partition,\n",
    "    louvain_partition=louvain_partition_S_tradition,\n",
    "    attribute_name='tradition',\n",
    "    top_n=2,\n",
    "\ttitle='Confusion Matrix (Traditions vs Communities)'\n",
    ")"
   ]
  },
  {
   "cell_type": "markdown",
   "metadata": {},
   "source": [
    "# Network Metrics for communities"
   ]
  },
  {
   "cell_type": "markdown",
   "metadata": {},
   "source": [
    "## (A) Community `subfields`"
   ]
  },
  {
   "cell_type": "markdown",
   "metadata": {},
   "source": [
    "## (B) Community `tradition`"
   ]
  },
  {
   "cell_type": "markdown",
   "metadata": {},
   "source": [
    "#"
   ]
  }
 ],
 "metadata": {
  "colab": {
   "collapsed_sections": [
    "HcyLopX8zh4T"
   ],
   "provenance": []
  },
  "kernelspec": {
   "display_name": "base",
   "language": "python",
   "name": "python3"
  },
  "language_info": {
   "codemirror_mode": {
    "name": "ipython",
    "version": 3
   },
   "file_extension": ".py",
   "mimetype": "text/x-python",
   "name": "python",
   "nbconvert_exporter": "python",
   "pygments_lexer": "ipython3",
   "version": "3.11.5"
  }
 },
 "nbformat": 4,
 "nbformat_minor": 0
}
