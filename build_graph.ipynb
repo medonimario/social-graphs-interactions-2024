{
 "cells": [
  {
   "cell_type": "code",
   "execution_count": 1,
   "metadata": {},
   "outputs": [],
   "source": [
    "import networkx as nx\n",
    "import os\n",
    "import re"
   ]
  },
  {
   "cell_type": "code",
   "execution_count": null,
   "metadata": {},
   "outputs": [],
   "source": [
    "def extract_title_link(match):\n",
    "    title = re.search(r'\\[\\[([^\\|\\]]+)', match)\n",
    "    if title:\n",
    "        return title.group(1).replace(\" \", \"_\")\n",
    "    else:\n",
    "        return None\n",
    "\n",
    "def findLinks(wikipage):\n",
    "    pattern = r'\\[{2}[\\w\\-\\s\\(\\)]*\\|?[\\w\\s\\-\\(\\)]*\\]{2}'\n",
    "    matches = re.findall(pattern, wikipage)\n",
    "    unique_matches = set(matches)\n",
    "    links = [extract_title_link(unique_match) for unique_match in unique_matches]\n",
    "    return links\n",
    "\n",
    "def build_graph_from_files(path):\n",
    "    files = [f for f in os.listdir(path) if f.endswith(\".txt\")]\n",
    "    outgoing_links = {}\n",
    "    pages = set()\n",
    "    \n",
    "    # Process each file in the directory to collect outgoing links and all pages\n",
    "    for file in files:\n",
    "        if not file.endswith(\".txt\"): \n",
    "            continue\n",
    "        \n",
    "        filepath = os.path.join(path, file)\n",
    "        with open(filepath, \"r\", encoding=\"utf-8\") as f:\n",
    "            wikipage = f.read()\n",
    "            wikipage_links = findLinks(wikipage)\n",
    "            withoutExtension = os.path.splitext(file)[0]\n",
    "            pages.add(withoutExtension)  # Add the page to the set of all pages\n",
    "            \n",
    "            for link in wikipage_links:\n",
    "                if link + \".txt\" in files:  # Only consider links that exist as files\n",
    "                    outgoing_links.setdefault(withoutExtension, []).append(link)\n",
    "                    pages.add(link)  # Add the linked page to the set of all pages\n",
    "\n",
    "    G = nx.DiGraph()\n",
    "\n",
    "    # Add all pages to the graph with the 'contentlength' attribute\n",
    "    for page in pages:\n",
    "        filename = os.path.join(path, f\"{page}.txt\")\n",
    "        with open(filename, \"r\", encoding=\"utf-8\") as f:\n",
    "            content = f.read()\n",
    "        word_count = len(content.split())\n",
    "        G.add_node(page, contentlength=word_count)\n",
    "    \n",
    "    # Add edges based on outgoing links\n",
    "    for page, links in outgoing_links.items():\n",
    "        for link in links:\n",
    "            G.add_edge(page, link)\n",
    "\n",
    "    # Remove isolated nodes\n",
    "    isolated_nodes = list(nx.isolates(G))\n",
    "    if isolated_nodes:\n",
    "        G.remove_nodes_from(isolated_nodes)\n",
    "\n",
    "    # Get the largest connected component\n",
    "    if nx.is_weakly_connected(G):\n",
    "        S = G.copy()\n",
    "    else:\n",
    "        largest_cc = max(nx.weakly_connected_components(G), key=len)\n",
    "        S = G.subgraph(largest_cc).copy()\n",
    "    \n",
    "    return S\n",
    "\n",
    "# Example usage for building graph\n",
    "path = \"downloads/\"\n",
    "S = build_graph_from_files(path)"
   ]
  },
  {
   "cell_type": "code",
   "execution_count": 3,
   "metadata": {},
   "outputs": [
    {
     "name": "stdout",
     "output_type": "stream",
     "text": [
      "Number of nodes: 1366\n",
      "Number of edges: 10850\n"
     ]
    }
   ],
   "source": [
    "print(f\"Number of nodes: {S.number_of_nodes()}\")\n",
    "print(f\"Number of edges: {S.number_of_edges()}\")"
   ]
  },
  {
   "cell_type": "code",
   "execution_count": 6,
   "metadata": {},
   "outputs": [
    {
     "name": "stdout",
     "output_type": "stream",
     "text": [
      "Number of nodes: 1465\n",
      "Number of edges: 11202\n"
     ]
    }
   ],
   "source": [
    "import pickle\n",
    "# save graph locally not to create each time:\n",
    "pickle.dump(S, open(\"graph.pkl\", \"wb\"))\n",
    "# load graph:\n",
    "S = pickle.load(open(\"graph.pkl\", \"rb\"))\n",
    "print(f\"Number of nodes: {S.number_of_nodes()}\")\n",
    "print(f\"Number of edges: {S.number_of_edges()}\")"
   ]
  }
 ],
 "metadata": {
  "kernelspec": {
   "display_name": "base",
   "language": "python",
   "name": "python3"
  },
  "language_info": {
   "codemirror_mode": {
    "name": "ipython",
    "version": 3
   },
   "file_extension": ".py",
   "mimetype": "text/x-python",
   "name": "python",
   "nbconvert_exporter": "python",
   "pygments_lexer": "ipython3",
   "version": "3.11.5"
  }
 },
 "nbformat": 4,
 "nbformat_minor": 2
}
