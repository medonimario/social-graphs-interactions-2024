{
 "cells": [
  {
   "cell_type": "markdown",
   "metadata": {},
   "source": [
    "# Communities"
   ]
  },
  {
   "cell_type": "code",
   "execution_count": 1,
   "metadata": {},
   "outputs": [],
   "source": [
    "from utils_globals import *\n",
    "import pickle\n",
    "import os\n",
    "import re\n",
    "from utils_wiki import get_category_data\n",
    "from utils_network import filter_graph_by_attribute, count_nodes_by_attribute\n",
    "from community import community_louvain\n",
    "import networkx as nx\n",
    "import networkx.algorithms.community as nx_comm\n",
    "import numpy as np\n",
    "import matplotlib.pyplot as plt\n",
    "from collections import Counter\n",
    "\n",
    "# load graph:\n",
    "S = pickle.load(open(PICKLE_DIR + \"/graph.pkl\", \"rb\"))\n",
    "S_undirected = pickle.load(open(PICKLE_DIR + \"/graph_undirected.pkl\", \"rb\"))"
   ]
  },
  {
   "cell_type": "markdown",
   "metadata": {},
   "source": [
    "## Extraction using `subfields` and `tradition`"
   ]
  },
  {
   "cell_type": "markdown",
   "metadata": {},
   "source": [
    "### (A) Extracting `subfield`\n",
    "From https://en.wikipedia.org/wiki/Lists_of_philosophers"
   ]
  },
  {
   "cell_type": "markdown",
   "metadata": {},
   "source": [
    "#### (A.1) Fetching data\n",
    "Two options are below either\n",
    "- `Option 1`: Fetching data anew from Wikipedia\n",
    "- `Option 2`: Using pickle file from last time option 1 was run"
   ]
  },
  {
   "cell_type": "code",
   "execution_count": 2,
   "metadata": {},
   "outputs": [],
   "source": [
    "subfield_links = [\n",
    "\t\t\"List of aestheticians\",\n",
    "\t\t\"List of critical theorists\",\n",
    "\t\t\"List of environmental philosophers\",\n",
    "\t\t\"List of epistemologists\",\n",
    "\t\t\"List of ethicists\",\n",
    "\t\t\"List of existentialists\",\n",
    "\t\t\"List of feminist philosophers\",\n",
    "\t\t\"List of secular humanists\", #List of Humanists redirect\n",
    "\t\t\"List of logicians\",\n",
    "\t\t\"List of metaphysicians\",\n",
    "\t\t\"Index of sociopolitical thinkers\", #List of Social and Political Philosophers redirect\n",
    "\t\t\"List of phenomenologists\",\n",
    "\t\t\"List of philosophers of language\",\n",
    "\t\t\"List of philosophers of mind\",\n",
    "\t\t\"List of philosophers of religion\",\n",
    "\t\t\"List of philosophers of science\",\n",
    "\t\t\"List of political philosophers\",\n",
    "\t\t\"List of political theorists\",\n",
    "\t\t\"List of rationalists\",\n",
    "\t\t\"List of utilitarians\"\n",
    "]"
   ]
  },
  {
   "cell_type": "markdown",
   "metadata": {},
   "source": [
    "##### -> `Option 1`: **Fetch the data from Wikipedia** (takes around 5 seconds)"
   ]
  },
  {
   "cell_type": "code",
   "execution_count": 3,
   "metadata": {},
   "outputs": [
    {
     "name": "stdout",
     "output_type": "stream",
     "text": [
      "- aestheticians: 86\n",
      "- critical theorists: 107\n",
      "- environmental philosophers: 80\n",
      "- epistemologists: 122\n",
      "- ethicists: 287\n",
      "- existentialists: 60\n",
      "- feminist philosophers: 134\n",
      "- secular humanists: 413\n",
      "- logicians: 291\n",
      "- metaphysicians: 185\n",
      "- sociopolitical thinkers: 245\n",
      "- phenomenologists: 24\n",
      "- philosophers of language: 141\n",
      "- philosophers of mind: 140\n",
      "- philosophers of religion: 110\n",
      "- philosophers of science: 111\n",
      "- political philosophers: 199\n",
      "- political theorists: 137\n",
      "- rationalists: 28\n",
      "- utilitarians: 104\n",
      "Total = 2184\n"
     ]
    }
   ],
   "source": [
    "replace_terms_subfields = [(\"List of\", \"\"), (\"Index of\", \"\")]\n",
    "clean_subfield_data, philosopher_subfield_info = get_category_data(\n",
    "    subfield_links, replace_terms_subfields, verbose=True\n",
    ")\n",
    "pickle.dump(philosopher_subfield_info, open(PICKLE_DIR + \"/philosopher_subfield_info.pkl\", \"wb\")) # Saved as local version for later use\n",
    "\n",
    "print(\"Total =\", len(philosopher_subfield_info))"
   ]
  },
  {
   "cell_type": "markdown",
   "metadata": {},
   "source": [
    "##### -> `Option 2`: **Use local pickle file** from last time option 1 was run"
   ]
  },
  {
   "cell_type": "code",
   "execution_count": 4,
   "metadata": {},
   "outputs": [],
   "source": [
    "philosopher_subfield_info = pickle.load(open(PICKLE_DIR + \"/philosopher_subfield_info.pkl\", \"rb\"))"
   ]
  },
  {
   "cell_type": "markdown",
   "metadata": {},
   "source": [
    "#### (A.2) Creating `S.subfields` network"
   ]
  },
  {
   "cell_type": "code",
   "execution_count": 5,
   "metadata": {},
   "outputs": [
    {
     "name": "stdout",
     "output_type": "stream",
     "text": [
      "Did not find subfields for: 768 philosophers (therefore not included in the filtered graph)\n",
      " -> Example of removed nodes: ['Sophie_de_Condorcet', 'Charles_Babbage', 'Felix_Krueger']\n",
      "Original graph: 1362 nodes and 8887 edges\n",
      "Filtered 'subfields' graph: 594 nodes and 4220 edges\n",
      "--------------------------------------------------\n",
      "Number of nodes by subfields:\n",
      " -> critical theorists: 41\n",
      " -> sociopolitical thinkers: 131\n",
      " -> political philosophers: 135\n",
      " -> political theorists: 73\n",
      " -> philosophers of language: 68\n",
      " -> epistemologists: 78\n",
      " -> philosophers of religion: 49\n",
      " -> metaphysicians: 119\n",
      " -> philosophers of mind: 57\n",
      " -> ethicists: 115\n",
      " -> philosophers of science: 45\n",
      " -> utilitarians: 29\n",
      " -> aestheticians: 51\n",
      " -> logicians: 89\n",
      " -> feminist philosophers: 22\n",
      " -> secular humanists: 34\n",
      " -> rationalists: 17\n",
      " -> phenomenologists: 11\n",
      " -> existentialists: 7\n",
      " -> environmental philosophers: 8\n",
      "--------------------------------------------------\n"
     ]
    }
   ],
   "source": [
    "S_subfields = filter_graph_by_attribute(\n",
    "    graph=S_undirected,\n",
    "    attribute_info=philosopher_subfield_info,\n",
    "    attribute_name='subfields',\n",
    "    verbose=True\n",
    ")\n",
    "print(\"-\"*50)\n",
    "count_nodes_by_attribute(S_subfields, 'subfields', verbose=True)\n",
    "print(\"-\"*50)\n"
   ]
  },
  {
   "cell_type": "markdown",
   "metadata": {},
   "source": [
    "### (B) Using `tradition` (western/eastern divide)"
   ]
  },
  {
   "cell_type": "markdown",
   "metadata": {},
   "source": [
    "#### (B.1) Extracting information from wikipedia"
   ]
  },
  {
   "cell_type": "markdown",
   "metadata": {},
   "source": [
    "Two options are below either\n",
    "- `Option 1`: Fetching data anew from Wikipedia\n",
    "- `Option 2`: Using pickle file from last time option 1 was run"
   ]
  },
  {
   "cell_type": "markdown",
   "metadata": {},
   "source": [
    "##### -> `Option 1`: Extract from wikipedia"
   ]
  },
  {
   "cell_type": "code",
   "execution_count": 6,
   "metadata": {},
   "outputs": [
    {
     "name": "stdout",
     "output_type": "stream",
     "text": [
      "- Eastern philosophers: 343\n",
      "- Western philosophers: 565\n",
      "Total = 893\n"
     ]
    }
   ],
   "source": [
    "tradition_links = [\n",
    "\t\"Timeline of Eastern philosophers\",\n",
    "\t\"Timeline of Western philosophers\"\n",
    "]\n",
    "\n",
    "replace_terms_traditions = [(\"Timeline of\", \"\")]\n",
    "clean_tradition_data, philosopher_tradition_info = get_category_data(\n",
    "    tradition_links, replace_terms_traditions, verbose=True\n",
    ")\n",
    "pickle.dump(philosopher_tradition_info, open(PICKLE_DIR + \"/philosopher_tradition_info.pkl\", \"wb\")) # Saved as local version for later use\n",
    "print(\"Total =\", len(philosopher_tradition_info))"
   ]
  },
  {
   "cell_type": "markdown",
   "metadata": {},
   "source": [
    "##### -> `Option 2`: **Use local pickle file** from last time option 1 was run"
   ]
  },
  {
   "cell_type": "code",
   "execution_count": 7,
   "metadata": {},
   "outputs": [],
   "source": [
    "philosopher_tradition_info = pickle.load(open(PICKLE_DIR + \"/philosopher_tradition_info.pkl\", \"rb\"))"
   ]
  },
  {
   "cell_type": "markdown",
   "metadata": {},
   "source": [
    "#### (B.2) Creating `S_tradition` network"
   ]
  },
  {
   "cell_type": "code",
   "execution_count": 8,
   "metadata": {},
   "outputs": [
    {
     "name": "stdout",
     "output_type": "stream",
     "text": [
      "Did not find tradition for: 1016 philosophers (therefore not included in the filtered graph)\n",
      " -> Example of removed nodes: ['Sophie_de_Condorcet', 'Charles_Babbage', 'Felix_Krueger']\n",
      "Original graph: 1362 nodes and 8887 edges\n",
      "Filtered 'tradition' graph: 346 nodes and 2561 edges\n",
      "--------------------------------------------------\n",
      "Number of nodes by tradition:\n",
      " -> Western philosophers: 279\n",
      " -> Eastern philosophers: 69\n",
      "--------------------------------------------------\n"
     ]
    }
   ],
   "source": [
    "S_tradition = filter_graph_by_attribute(\n",
    "    graph=S_undirected,\n",
    "    attribute_info=philosopher_tradition_info,\n",
    "    attribute_name='tradition',\n",
    "    verbose=True\n",
    ")\n",
    "\n",
    "print(\"-\"*50)\n",
    "count_nodes_by_attribute(S_tradition, 'tradition', verbose=True)\n",
    "print(\"-\"*50)"
   ]
  },
  {
   "cell_type": "markdown",
   "metadata": {},
   "source": [
    "## Partitioning"
   ]
  },
  {
   "cell_type": "markdown",
   "metadata": {},
   "source": [
    "### Imports and definitions"
   ]
  },
  {
   "cell_type": "code",
   "execution_count": 9,
   "metadata": {},
   "outputs": [],
   "source": [
    "from community import community_louvain\n",
    "import networkx as nx\n",
    "import networkx.algorithms.community as nx_comm\n",
    "import numpy as np\n",
    "import matplotlib.pyplot as plt\n",
    "from collections import Counter\n",
    "from sklearn.cluster import KMeans\n",
    "\n",
    "def create_partition_using_attribute(graph, attribute_name):\n",
    "\tpartition = {}\n",
    "\tfor node, data in graph.nodes(data=True):\n",
    "\t\tattribute = data.get(attribute_name)\n",
    "\t\tif isinstance(attribute, list):\n",
    "\t\t\tattribute = attribute[0]\n",
    "\t\tif attribute is not None:\n",
    "\t\t\t\tpartition[node] = attribute\n",
    "\treturn partition\n",
    "\n",
    "def get_louvain_modularity(graph, partition_dict):\n",
    "\treturn f\"{community_louvain.modularity(partition_dict, graph):.4f}\"\n",
    "\n",
    "def plot_partition_heatmap(graph, attribute_partition, louvain_partition, attribute_name, top_n=7, title=\"Confusion Matrix\"):\n",
    "    \"\"\"\n",
    "    Plots a confusion matrix heatmap comparing attribute-based partition and Louvain community partition.\n",
    "\n",
    "    Args:\n",
    "        graph (networkx.Graph): The graph to analyze.\n",
    "        attribute_partition (dict): Partition mapping nodes to their attributes.\n",
    "        louvain_partition (dict): Louvain partition mapping nodes to communities.\n",
    "        attribute_name (str): Name of the attribute (e.g., 'subfields' or 'tradition').\n",
    "        top_n (int): Number of top attributes and communities to consider for the heatmap.\n",
    "        title (str): Title of the heatmap.\n",
    "    \"\"\"\n",
    "    # Step 1: Identify top attributes and communities\n",
    "    attribute_counts = Counter(attribute_partition.values())\n",
    "    top_attributes = [attribute for attribute, _ in attribute_counts.most_common(top_n)]\n",
    "\n",
    "    community_counts = Counter(louvain_partition.values())\n",
    "    top_communities = [community for community, _ in community_counts.most_common(top_n)]\n",
    "\n",
    "    # Step 2: Map attributes and communities to matrix indices\n",
    "    attribute_to_index = {attribute: idx for idx, attribute in enumerate(top_attributes)}\n",
    "    community_to_index = {community: idx for idx, community in enumerate(top_communities)}\n",
    "\n",
    "    # Step 3: Initialize confusion matrix D\n",
    "    D = np.zeros((top_n, top_n), dtype=int)\n",
    "\n",
    "    # Step 4: Populate the confusion matrix\n",
    "    for node in graph.nodes:\n",
    "        attribute = attribute_partition.get(node)  # Get node's attribute\n",
    "        community = louvain_partition.get(node)  # Get node's Louvain community\n",
    "\n",
    "        # Only consider top attributes and communities\n",
    "        if community in community_to_index and attribute in attribute_to_index:\n",
    "            i = attribute_to_index[attribute]\n",
    "            j = community_to_index[community]\n",
    "            D[i, j] += 1\n",
    "\n",
    "    # Step 5: Create the heatmap\n",
    "    plt.figure(figsize=(7, 7))\n",
    "    plt.imshow(D, interpolation='nearest', cmap='Blues')\n",
    "\n",
    "    # Add text annotations for each cell\n",
    "    for i in range(D.shape[0]):\n",
    "        for j in range(D.shape[1]):\n",
    "            plt.text(j, i, int(D[i, j]), ha=\"center\", va=\"center\", color=\"black\")\n",
    "\n",
    "    # Add titles, labels, and ticks\n",
    "    plt.title(title)\n",
    "    plt.xlabel('Communities')\n",
    "    plt.ylabel(f'{attribute_name.capitalize()}')\n",
    "\n",
    "    # Set tick labels\n",
    "    plt.xticks(np.arange(len(top_communities)), [f\"C {c}\" for c in top_communities])\n",
    "    plt.yticks(np.arange(len(top_attributes)), top_attributes)\n",
    "\n",
    "    # Add a color bar\n",
    "    plt.colorbar()\n",
    "    plt.show()"
   ]
  },
  {
   "cell_type": "markdown",
   "metadata": {},
   "source": [
    "### (A) Partitioning using `S_subfields`"
   ]
  },
  {
   "cell_type": "markdown",
   "metadata": {},
   "source": [
    "Each node is characterized by the first `subfield` if there are multiple."
   ]
  },
  {
   "cell_type": "code",
   "execution_count": 10,
   "metadata": {},
   "outputs": [
    {
     "name": "stdout",
     "output_type": "stream",
     "text": [
      "Subfields partion Modularity =  0.0872\n",
      "Louvain partion Modularity =  0.4293\n"
     ]
    }
   ],
   "source": [
    "subfields_partition = create_partition_using_attribute(S_subfields, 'subfields')\n",
    "subfields_partition_modularity = get_louvain_modularity(S_subfields, subfields_partition)\n",
    "print(\"Subfields partion Modularity = \", subfields_partition_modularity)\n",
    "\n",
    "louvain_partition_S_subfields = community_louvain.best_partition(S_subfields, random_state=RANDOM_STATE)\n",
    "print(\"Louvain partion Modularity = \", get_louvain_modularity(S_subfields, louvain_partition_S_subfields))\n",
    "\n",
    "# louvain_partition_S_subfields_kmeans = louvain_kmeans_partition(S_subfields, len(subfield_links))\n",
    "# print(\"Louvain partion (with KMeans community limit) Modularity = \", get_louvain_modularity(S_subfields, louvain_partition_S_subfields_kmeans))"
   ]
  },
  {
   "cell_type": "code",
   "execution_count": 11,
   "metadata": {},
   "outputs": [
    {
     "data": {
      "image/png": "[encoded data removed]",
      "text/plain": [
       "<Figure size 700x700 with 2 Axes>"
      ]
     },
     "metadata": {},
     "output_type": "display_data"
    }
   ],
   "source": [
    "plot_partition_heatmap(\n",
    "    graph=S_subfields,\n",
    "    attribute_partition=subfields_partition,\n",
    "    louvain_partition=louvain_partition_S_subfields,\n",
    "    attribute_name='subfields',\n",
    "    title='Confusion Matrix (Subfields vs Communities)'\n",
    ")"
   ]
  },
  {
   "cell_type": "markdown",
   "metadata": {},
   "source": [
    "### (B) Partitioning using `S_tradition`"
   ]
  },
  {
   "cell_type": "code",
   "execution_count": 12,
   "metadata": {},
   "outputs": [
    {
     "name": "stdout",
     "output_type": "stream",
     "text": [
      "Tradition partion Modularity =  0.0802\n",
      "Louvain partion Modularity =  0.3946\n"
     ]
    }
   ],
   "source": [
    "tradition_partition = create_partition_using_attribute(S_tradition, 'tradition')\n",
    "tradition_partition_modularity = get_louvain_modularity(S_tradition, tradition_partition)\n",
    "\n",
    "print(\"Tradition partion Modularity = \", tradition_partition_modularity)\n",
    "\n",
    "louvain_partition_S_tradition = community_louvain.best_partition(S_tradition, random_state=RANDOM_STATE)\n",
    "print(\"Louvain partion Modularity = \", get_louvain_modularity(S_tradition, louvain_partition_S_tradition))\n",
    "\n",
    "# louvain_partition_S_tradition_kmeans = louvain_kmeans_partition(S_tradition, 2)\n",
    "# print(\"Louvain partion (with KMeans community limit) Modularity = \", get_louvain_modularity(S_tradition, louvain_partition_S_tradition_kmeans))"
   ]
  },
  {
   "cell_type": "code",
   "execution_count": 13,
   "metadata": {},
   "outputs": [
    {
     "data": {
      "image/png": "[encoded data removed]",
      "text/plain": [
       "<Figure size 700x700 with 2 Axes>"
      ]
     },
     "metadata": {},
     "output_type": "display_data"
    }
   ],
   "source": [
    "plot_partition_heatmap(\n",
    "    graph=S_tradition,\n",
    "    attribute_partition=tradition_partition,\n",
    "    louvain_partition=louvain_partition_S_tradition,\n",
    "    attribute_name='tradition',\n",
    "    top_n=2,\n",
    "\ttitle='Confusion Matrix (Traditions vs Communities)'\n",
    ")"
   ]
  },
  {
   "cell_type": "markdown",
   "metadata": {},
   "source": [
    "#"
   ]
  }
 ],
 "metadata": {
  "colab": {
   "collapsed_sections": [
    "HcyLopX8zh4T"
   ],
   "provenance": []
  },
  "kernelspec": {
   "display_name": "base",
   "language": "python",
   "name": "python3"
  },
  "language_info": {
   "codemirror_mode": {
    "name": "ipython",
    "version": 3
   },
   "file_extension": ".py",
   "mimetype": "text/x-python",
   "name": "python",
   "nbconvert_exporter": "python",
   "pygments_lexer": "ipython3",
   "version": "3.11.5"
  }
 },
 "nbformat": 4,
 "nbformat_minor": 0
}
