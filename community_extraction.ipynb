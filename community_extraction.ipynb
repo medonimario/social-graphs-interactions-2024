{
 "cells": [
  {
   "cell_type": "markdown",
   "metadata": {},
   "source": [
    "# Community Extraction"
   ]
  },
  {
   "cell_type": "code",
   "execution_count": 1,
   "metadata": {},
   "outputs": [],
   "source": [
    "import pickle\n",
    "import os\n",
    "import networkx as nx\n",
    "import re\n",
    "DOWNLOADS_DIR = \"downloads\""
   ]
  },
  {
   "cell_type": "code",
   "execution_count": 2,
   "metadata": {},
   "outputs": [],
   "source": [
    "# load graph:\n",
    "S = pickle.load(open(\"graph.pkl\", \"rb\"))"
   ]
  },
  {
   "cell_type": "markdown",
   "metadata": {},
   "source": [
    "## Using `region`"
   ]
  },
  {
   "cell_type": "markdown",
   "metadata": {},
   "source": [
    "### Creating `S_region`\n",
    "Finds region in wikitext downloaded and adds it to the network (if multiple exist it takes the first region)"
   ]
  },
  {
   "cell_type": "code",
   "execution_count": null,
   "metadata": {},
   "outputs": [],
   "source": [
    "S_subfield = S.copy()\n",
    "\n",
    "region_pattern = r'\\|\\s*region\\s*=\\s*\\[\\[([^\\]]+)\\]\\]'\n",
    "nodes_to_remove = []  # Collect nodes to remove\n",
    "\n",
    "for node in list(S_subfield.nodes):\n",
    "\tnode_file_name = DOWNLOADS_DIR + \"/\" + node + \".txt\"\n",
    "\tif os.path.exists(node_file_name):\n",
    "\t\ttry:\n",
    "\t\t\twith open(node_file_name, 'r', encoding='utf-8') as f:\n",
    "\t\t\t\ttext = f.read()\n",
    "\t\t\t\tmatches = re.search(region_pattern, text)\n",
    "\t\t\t\tif matches:\n",
    "\t\t\t\t\t# Extract all individual regions from the matched string\n",
    "\t\t\t\t\tregions = re.findall(r'\\[\\[([^\\]]+)\\]\\]', matches.group(0))\n",
    "\t\t\t\t\tS_subfield.nodes[node]['region'] = regions[0]\n",
    "\t\t\t\telse:\n",
    "\t\t\t\t\tnodes_to_remove.append(node)  # Mark node for removal\n",
    "\t\texcept Exception as e:\n",
    "\t\t\tprint(f\"Error processing node {node}: {e}\")\n",
    "\telse:\n",
    "\t\tnodes_to_remove.append(node)  # Mark node for removal if file does not exist\n",
    "S_subfield.remove_nodes_from(nodes_to_remove)"
   ]
  },
  {
   "cell_type": "code",
   "execution_count": null,
   "metadata": {},
   "outputs": [
    {
     "name": "stdout",
     "output_type": "stream",
     "text": [
      "Original graph:  DiGraph with 1366 nodes and 10850 edges\n",
      "Region graph:  DiGraph with 557 nodes and 4415 edges\n",
      "('Anaximander', {'contentlength': 7671, 'region': 'Western philosophy'})\n"
     ]
    }
   ],
   "source": [
    "print(\"Original graph: \", S)\n",
    "print(\"Region graph: \", S_subfield)\n",
    "print(list(S_subfield.nodes(data=True))[143])"
   ]
  },
  {
   "cell_type": "markdown",
   "metadata": {},
   "source": [
    "### Generating the communities"
   ]
  },
  {
   "cell_type": "code",
   "execution_count": null,
   "metadata": {},
   "outputs": [],
   "source": [
    "region_partition = {}\n",
    "\n",
    "for node, data in S_subfield.nodes(data=True):\n",
    "\t\tgenre = data.get('region')\n",
    "\t\tif genre not in region_partition:\n",
    "\t\t\tregion_partition[genre] = []\n",
    "\t\tregion_partition[genre].append(node)\n",
    "\n",
    "print(\"Region communities with length:\")\n",
    "for genre, nodes in region_partition.items():\n",
    "\t\tprint(f\"Region: {genre}, Length: {len(nodes)}\")"
   ]
  },
  {
   "cell_type": "markdown",
   "metadata": {},
   "source": [
    "Only western philosophy is the big one."
   ]
  },
  {
   "cell_type": "markdown",
   "metadata": {},
   "source": [
    "## (B) Using `subfield`\n",
    "https://en.wikipedia.org/wiki/Lists_of_philosophers"
   ]
  },
  {
   "cell_type": "markdown",
   "metadata": {},
   "source": [
    "### (B.1) Extracting subfield information"
   ]
  },
  {
   "cell_type": "markdown",
   "metadata": {},
   "source": [
    "First we fetch the data from Wikipedia \n",
    "(takes around 5 seconds)"
   ]
  },
  {
   "cell_type": "code",
   "execution_count": 80,
   "metadata": {},
   "outputs": [],
   "source": [
    "from wiki_utils import getJsonResponse, findLinks\n",
    "\n",
    "subfield_links = [\n",
    "\t\t\"List of aestheticians\",\n",
    "\t\t\"List of critical theorists\",\n",
    "\t\t\"List of environmental philosophers\",\n",
    "\t\t\"List of epistemologists\",\n",
    "\t\t\"List of ethicists\",\n",
    "\t\t\"List of existentialists\",\n",
    "\t\t\"List of feminist philosophers\",\n",
    "\t\t\"List of secular humanists\",\n",
    "\t\t\"List of logicians\",\n",
    "\t\t\"List of metaphysicians\",\n",
    "\t\t\"Index of sociopolitical thinkers\", #List of Social and Political Philosophers redirect\n",
    "\t\t\"List of phenomenologists\",\n",
    "\t\t\"List of philosophers of language\",\n",
    "\t\t\"List of philosophers of mind\",\n",
    "\t\t\"List of philosophers of religion\",\n",
    "\t\t\"List of philosophers of science\",\n",
    "\t\t\"List of political philosophers\",\n",
    "\t\t\"List of political theorists\",\n",
    "\t\t\"List of rationalists\",\n",
    "\t\t\"List of utilitarians\"\n",
    "]\n",
    "subfield_data = {}\n",
    "\n",
    "for subfield_list in subfield_links:\n",
    "\twiki_markup = getJsonResponse(subfield_list)\n",
    "\tphilosopher_list = findLinks(wiki_markup)\n",
    "\tif subfield_list not in subfield_data:\n",
    "\t\t\tsubfield_data[subfield_list] = []\n",
    "\tsubfield_data[subfield_list].append(philosopher_list)\n",
    "\n",
    "# Flatten the list of lists for each subfield\n",
    "for subfield_list in subfield_data:\n",
    "\t\tsubfield_data[subfield_list] = [link for sublist in subfield_data[subfield_list] for link in sublist]"
   ]
  },
  {
   "cell_type": "markdown",
   "metadata": {},
   "source": [
    "We then clean the data fetched"
   ]
  },
  {
   "cell_type": "code",
   "execution_count": null,
   "metadata": {},
   "outputs": [
    {
     "name": "stdout",
     "output_type": "stream",
     "text": [
      "Total categorized philosophers = 2183\n",
      " (assuming a link in the subfield list = a philosopher)\n"
     ]
    }
   ],
   "source": [
    "clean_subfield_data = {}\n",
    "for subfield in subfield_data:\n",
    "\t\tcleaned_subfield = subfield.replace(\"List of\", \"\").strip()\n",
    "\t\tcleaned_subfield = cleaned_subfield.replace(\"Index of\", \"\").strip()\n",
    "\t\tclean_subfield_data[cleaned_subfield] = subfield_data[subfield]\n",
    "\n",
    "\n",
    "total_philosophers = 0\n",
    "verbose = False\n",
    "if (verbose):\n",
    "\tprint(\"Subfield: Amount of philosophers categorized in this subfield\")\n",
    "\tprint(\"(Multiple subfields for a philosopher is possible)\")\n",
    "\tprint(\"-\"*50)\n",
    "\n",
    "\n",
    "philosopher_subfield_info = {} # Converting the subfield info to a map of philosophers to subfields\n",
    "for subfield, philosopher_list in clean_subfield_data.items():\n",
    "\tif verbose:\n",
    "\t\tprint(f\"- {subfield}: {len(philosopher_list)}\")\n",
    "\tfor philosopher in philosopher_list:\n",
    "\t\tif philosopher not in philosopher_subfield_info:\n",
    "\t\t\tphilosopher_subfield_info[philosopher] = []\n",
    "\t\tphilosopher_subfield_info[philosopher].append(subfield)\n",
    "\n",
    "print(\"Total categorized philosophers =\",  len(philosopher_subfield_info))\n",
    "print(\" (assuming a link in the subfield list = a philosopher)\")\t\t"
   ]
  },
  {
   "cell_type": "markdown",
   "metadata": {},
   "source": [
    "### (B.2) Adding `subfield` info to network"
   ]
  },
  {
   "cell_type": "code",
   "execution_count": 78,
   "metadata": {},
   "outputs": [
    {
     "name": "stdout",
     "output_type": "stream",
     "text": [
      "Did not find subfield for:  771  philosophers (therefore not included in S_subfield)\n",
      " -> Example of removed nodes:  ['Georgy_Shchedrovitsky', 'James_McCosh', 'Zeno_of_Sidon']\n",
      "Original amount of philosophers in S:  1366\n",
      "Modified amount in S_subfield:  595\n"
     ]
    }
   ],
   "source": [
    "S_subfield = S.copy()\n",
    "\n",
    "nodes_to_remove = []  # Collect nodes to remove\n",
    "\n",
    "for node in list(S_subfield.nodes):\n",
    "\tif node in philosopher_subfield_info:\n",
    "\t\tS_subfield.nodes[node]['subfields'] = philosopher_subfield_info[node]\n",
    "\telse:\n",
    "\t\tnodes_to_remove.append(node)  # Mark node for removal if no subfield info\n",
    "\n",
    "S_subfield.remove_nodes_from(nodes_to_remove)\n",
    "print(\"Did not find subfield for: \", len(nodes_to_remove), \" philosophers (therefore not included in S_subfield)\")\n",
    "print(\" -> Example of removed nodes: \", list(nodes_to_remove[0:3]))\n",
    "print(\"Original amount of philosophers in S: \", len(S.nodes))\n",
    "print(\"Modified amount in S_subfield: \", len(S_subfield.nodes))"
   ]
  },
  {
   "cell_type": "markdown",
   "metadata": {},
   "source": [
    "### (B.3)"
   ]
  },
  {
   "cell_type": "markdown",
   "metadata": {},
   "source": [
    "## Using western eastern divide list"
   ]
  },
  {
   "cell_type": "code",
   "execution_count": null,
   "metadata": {},
   "outputs": [
    {
     "name": "stdout",
     "output_type": "stream",
     "text": [
      "{'Timeline of Eastern philosophers': [['Sai_Baba_of_Shirdi', 'Chaitanya_Mahaprabhu', 'totalistic_legalism', 'ISKCON', 'Mūlamadhyamakakārikā', 'Jeong_Yak-yong', 'Seungrang', 'Brajendranath_Seal', 'Anandavardhana', 'Sri_Aurobindo', 'Jizang', 'Zhou_dynasty', 'Krishna_Chandra_Bhattacharya', 'Zhi_Dun', 'Gangesha_Upadhyaya', 'Nisargadatta_Maharaj', 'Zhu_Xi', 'Nagarjuna', 'Zhaozhou_Congshen', 'Kuki_Shūzō', 'Mou_Tsung-san', 'Basaveshwara', 'Kim_Jeong-hui', 'Choi_Je-u', 'Jiao_Hong', 'Tang_dynasty', 'Nichiren', 'Indian_atomism', 'Legalism_(Chinese_philosophy)', 'Agastya', 'Umasvati', 'Xiong_Shili', 'Ogyū_Sorai', 'Atiśa', 'Hōnen', 'Kundakunda', 'Chang_Tsai', 'Cārvāka', 'Mozi', 'Ji_Kang', 'Gadadhara_Bhattacharya', 'Nolini_Kanta_Gupta', 'Bhartrhari', 'Xuanzang', 'Yajnavalkya', 'Sun_Yat-sen', 'Bharadwaja', 'Woncheuk', 'Kang_Youwei', 'Nyaya', 'Rabindranath_Tagore', 'Gorampa', 'Parshvanatha', 'Vasishtha', 'Three_Kingdoms', 'Buddhaghosa', 'Dai_Zhen', 'Pandurang_Shastri_Athavale', 'Kabir', 'Abhinavagupta', 'Laozi', 'Linji_Yixuan', 'Confucianism', 'Swami_Krishnananda', 'Shinran', 'Jinul', 'Chen_Xianzhang', 'School_of_Names', 'Yan_Yuan_(Qing_dynasty)', 'Vācaspati_Miśra', 'Shandao', 'Nishitani_Keiji', 'Uicheon', 'Svātantrika_tradition', 'Indian_logic', 'Qin_dynasty', 'Nanyue_Huisi', 'Seo_Gyeong-deok', 'Raghunatha_Siromani', 'Devendranath_Tagore', 'Bodhidharma', 'Mirabai', 'Wumen_Huikai', 'Huang_Zongxi', 'Sankhya', 'Vasugupta', 'Vishvamitra', 'Sakya_Chokden', 'Joseon_period', 'Yunmen_Wenyan', 'Aksapada_Gautama', 'Goryeo_period', 'Jamyang_Khyentse_Wangpo', 'Edo_period', 'Itō_Jinsai', 'Yin-Yang', 'Śīlabhadra', 'Thiruvalluvar', 'Confucianism', 'Ge_Hong', 'philologist', 'Zhang_Xuecheng', 'Dong_Zhongshu', 'Zongmi', 'Ruan_Ji', 'Shri_Madhvacharya', 'Yuquan_Shenxiu', 'Dayananda_Saraswati', 'Jo_Sik', 'Fan_Zhongyan', 'Cheng_Yi_(philosopher)', 'Hao_Wang_(academic)', 'Vallabhacharya', 'Liang_Shuming', 'Pei_Wei_(Jin_dynasty)', 'Dahui_Zonggao', 'Brahma_Sutras', 'Yi_Je-ma', 'Yoga', 'Five_Dynasties_and_Ten_Kingdoms_period', 'Nishida_Kitaro', 'Dirghatamas', 'Kumārila_Bhaṭṭa', 'Han_Feizi', 'Jia_Yi', 'Gyeltsap_Darma_Rinchen', 'Dignāga', 'Nigamananda', 'Zen_Buddhism', 'Hu_Yuan', 'acharya', 'Zhuang_Zhou', 'Zheng_Xuan', 'Ryu_Yeong-mo', 'Śāntideva', 'Ramakrishna_Paramahamsa', 'male_feminist', 'Vatsyayana', 'Baizhang_Huaihai', 'Nishi_Amane', 'Jainism', 'Xuedou_Chongxian', 'Haridas_Chaudhuri', 'Kaibara_Ekken', 'Ming_dynasty', 'Han_dynasty', 'Ham_Seok-heon', 'Taoism', 'Liang_Qichao', 'Qing_dynasty', 'Asanga', 'Timeline_of_Western_philosophers', 'Yoga_Sutra', 'Wang_Gen', 'tirthankara', 'Kapila', 'Pāṇini', 'Advaita_Vedanta', 'Doseon', 'Huangbo_Xiyun', 'Mazu_Daoyi', 'Kamakura_period', 'Lingayatism', 'Tattvartha_Sutra', 'Shenhui', 'Three_Kingdoms_of_Korea', 'Hong_Ren', 'Purva_Mimamsa', 'Tominaga_Nakamoto', 'Sanskrit_grammar', 'Feng_Youlan', 'Deendayal_Upadhyaya', 'Yi_Hwang', 'Shang_Yang', 'Kūkai', 'Qingliang_Chengguan', 'Adi_Shankara', 'Sanskrit', 'Candrakirti', 'Tan_Sitong', 'Patanjali', 'Unified_Silla_period', 'Watsuji_Tetsuro', 'Choi_Han-gi', 'Yang_Zhu', 'Amartya_Sen', 'Liezi', 'Xu_Xing_(philosopher)', 'Buddhism', 'Fazang', 'Confucius', 'Siddhasen_Diwakar', 'Zou_Yan', 'Xin_dynasty', 'Miki_Kiyoshi', 'Mahavira', 'He_Zhen_(anarchist)', 'Han_Yu', 'Lushan_Huiyuan', 'Hu_Shih', 'Badarayana', 'Prabhat_Ranjan_Sarkar', 'Swami_Vivekananda', 'Kama_Sutra', 'Liu_An', 'George_Ohsawa', 'Jeong_Do-jeon', 'Zhang_Dongsun', 'Wangchuk_Dorje', 'Mahatma_Gandhi', 'Udayana', 'Hui_Shi', 'Yuanwu_Keqin', 'He_Yan', 'Yu_Zhengxie', 'Jamadagni', 'Kumazawa_Banzan', 'Li_Zhi_(philosopher)', 'Yuan_dynasty', 'Ājīvika', 'Tirthankara', 'astrologer', 'Wang_Chong', 'Mahākāśyapa', 'Gaozi', 'Hu_Hong', 'Yi_I', 'Rangjung_Dorje', 'Wonhyo', 'Gopinath_Kaviraj', 'Jiddu_Krishnamurti', 'Mencius', 'Sita_Ram_Goel', 'Jamgön_Ju_Mipham', 'Gaudapada', 'Zeami_Motokiyo', 'Uisang', 'Li_Ao_(722-841)', 'Osho_(Bhagwan_Shree_Rajneesh)', 'Dazu_Huike', 'Bṛhaspati', 'Liu_Shaoqi', 'List_of_years_in_philosophy', 'Ravidas', 'Ram_Swarup', 'Muromachi_period', 'philosophers', 'philosopher', 'Gautama_Buddha', 'Zhiyi', 'Vaisheshika', 'Wang_Yangming', 'Vijnanabhiksu', 'Allama_Iqbal', 'Yi_Eon-jeok', 'Gorakshanath', 'Miyamoto_Musashi', 'Shitou_Xiqian', 'Sarvepalli_Radhakrishnan', 'Atri', 'Gongsun_Longzi', 'Je_Tsongkhapa', 'Madhusūdana_Sarasvatī', 'Shen_Buhai', 'Bhimrao_Ramji_Ambedkar', 'Shen_Dao', 'Nanak', 'Chanakya', 'Cheng_Hao', 'Dolpopa', 'Jamgön_Kongtrül', 'Prabhākara', 'Warring_States_period', 'Tanabe_Hajime', 'Heian_period', 'Yogacara', 'Udayana', 'Makkhali_Gosala', 'Vidyaranya', 'Fujiwara_Seika', 'Sengzhao', 'Gautama_Maharishi', 'Confucianism', 'Mahābhāṣya', 'Shaivism', 'Josei_Toda', 'Dharmakirti', 'I_Ching', 'Zhou_Dunyi', 'Sakya_Pandita', 'Vasubandhu', 'Bimal_Krishna_Matilal', 'Dushun', 'Ramanuja', 'Liu_Tsung-chou', 'Udyotakara', 'Hakuin_Ekaku', 'Mao_Zedong', 'Motoori_Norinaga', 'Lü_Buwei', 'Bhāviveka', 'Lu_Jiuyuan', 'Xu_Fuguan', 'Cheng_Xuanying', 'Narayana_Guru', 'Jeong_Je-du', 'Pingala', 'Vyasatirtha', 'Five_elements_(Chinese_philosophy)', 'Kanada_(philosopher)', 'Dōgen_Zenji', 'Guan_Zhong', 'Jaimini', 'Vedānta', 'Yang_Xiong_(author)', 'Xun_Kuang', 'Shvetashvatara_Upanishad', 'contemporary_philosophy', 'Purva_Mimamsa_Sutras', 'Tao_Te_Ching', 'Taoism', 'Shao_Yung', 'Aruni', 'Jayanta_Bhatta', 'Huineng', 'Ramana_Maharshi', 'Guo_Xiang', 'Lopamudra', 'Nyāya_Sūtras', 'Sāṃkhya', 'Wang_Bi', 'Tirukkuṛaḷ', 'Song_Xing', 'Dayi_Daoxin', 'Nimbarka', 'Hedonist', 'Mikyö_Dorje', 'Longchenpa', 'Tan-luan', 'Vishishtadvaita', 'Sun_Tzu', 'Wang_Fuzhi', 'Advaita_Vedanta']], 'Timeline of Western philosophers': [['Peter_Lombard', 'Abolitionism_in_the_United_States', 'Blaise_Pascal', 'Epicureanism', 'Muhammad_ibn_Zakariya_al-Razi', 'Libertarianism', 'Julius_Evola', 'Isidore_of_Seville', 'Hermeneutician', 'Pico_della_Mirandola', 'Robert_Filmer', 'Social_constructivism', 'Pragmatism', 'Shahab_al-Din_Yahya_ibn_Habash_Suhrawardi', 'Thomas_Kuhn', 'Baltasar_Gracián', 'Christianity', 'Alvin_Plantinga', 'Russell_Kirk', 'Pierre-Joseph_Proudhon', 'Gaston_Bachelard', 'Jacques_Lacan', 'Simone_de_Beauvoir', 'Pierre_Duhem', 'Johann_Gottlieb_Fichte', 'pantheist', 'Jean-Baptiste_Lamarck', 'Structural_Marxism', 'Peripatetic_school', 'Byung-Chul_Han', 'Peter_Kropotkin', 'William_James', 'Maimonides', 'Porphyry_(philosopher)', 'Agnosticism', 'John_of_Damascus', 'Karl_Marx', 'Guy_Debord', 'Post-structuralism', 'State_of_exception', 'Benedetto_Croce', 'Neopragmatist', 'Camille_Paglia', 'solipsism', 'psychoanalysis', 'Adam_Smith', 'Roger_Bacon', 'Eratosthenes', 'Hannah_Arendt', 'Slavoj_Žižek', 'Walter_Benjamin', 'Archimedes', 'Anselm_of_Canterbury', 'Francis_of_Assisi', 'Karl_Barth', 'Alfred_Tarski', 'Aleksandr_Solzhenitsyn', 'Baruch_Spinoza', 'Existentialism', 'aphorisms', 'Judith_Butler', 'Christian_philosophy', 'Frankfurt_School', 'Ibn_Gabirol', 'Ibn_Tufail', 'Neo-Kantianism', 'Alexander_Wendt', 'Reformed_epistemology', 'hedonist', 'Martin_Luther', 'Ayn_Rand', 'Antinatalism', 'Muslim_philosopher', 'John_Dewey', 'feminist', 'Oswald_Spengler', 'Hans-Georg_Gadamer', 'Comte_de_Saint-Simon', 'Empedocles', 'Nicolas_Malebranche', 'Sigmund_Freud', 'Nicolai_Hartmann', 'Peter_Singer', 'effective_altruism', 'Philosophy_of_science', 'Pherecydes_of_Syros', 'Epicurus', 'Peter_Abelard', 'relativism', 'Martin_Buber', 'Franciscan', 'Vienna_Circle', 'Hans_Kelsen', 'Francisco_Suarez', 'Hugo_Grotius', 'Giambattista_Vico', 'Cynicism_(philosophy)', 'Age_of_Enlightenment', 'Noam_Chomsky', 'Gemistus_Pletho', 'Henry_Sidgwick', 'Gottfried_Leibniz', 'Friedrich_Engels', 'Postanalytic_philosophy', 'Duns_Scotus', 'Byzantine', 'Bonaventure', 'Philosophy_of_Religion', 'Friedrich_Schleiermacher', 'philosophy_of_mind', 'Roger_Scruton', 'Pluralism_(philosophy)', 'Stoicism', 'Socialist', 'Ordinary_language_philosophy', 'Ralph_Waldo_Emerson', 'Accelerationist', 'Philosophy_of_Physics', 'Parmenides', 'Pierre_Teilhard_de_Chardin', 'Alain_de_Botton', 'Henri_Lefebvre', 'mathematician', 'Seneca_the_Younger', 'Anaximander', 'Ernst_Mach', 'Denis_Diderot', 'philosophy_of_language', 'Louis_Althusser', 'George_Berkeley', 'Ludwig_Feuerbach', 'theologian', 'Literary_theory', 'Charles_Darwin', 'social_contract', 'Rationalist', 'Nominalist', 'Ferdinand_de_Saussure', 'Sextus_Empiricus', 'Existentialist', 'Margaret_Fuller', 'Wilhelm_Dilthey', 'Roland_Barthes', 'existentialist', 'Mikhail_Bakunin', 'Henry_David_Thoreau', 'Process_Philosophy', 'Critias', 'Nietzsche', 'Epicharmus', 'Nicolaus_Copernicus', 'Franz_Brentano', 'Arthur_Schopenhauer', 'Determinist', 'Marcus_Aurelius', 'Jean_Buridan', 'Bernard_Williams', 'Gotthold_Ephraim_Lessing', 'Traditionalist_conservatism', 'Timeline_of_German_Idealism', 'Max_Scheler', 'Jesus', 'Homo_sacer', 'Al-Kindi', 'David_Hartley_(philosopher)', 'Rationalism', 'John_Searle', 'Francis_Bacon_(philosopher)', 'Jaakko_Hintikka', 'Eric_Hoffer', 'Materialist', 'Jane_Addams', 'symbolic_interactionist', 'Louis_de_Bonald', 'Diogenes_of_Apollonia', 'Anaximenes_of_Miletus', 'Jerry_Fodor', 'Ascetic', 'Jewish_philosophy', 'Isaiah_Berlin', 'Otto_Neurath', 'Pierre_Gassendi', 'Mary_Wollstonecraft', 'Eriugena', 'Jacques_Derrida', 'Abbas_ibn_Firnas', 'Donald_Davidson_(philosopher)', 'Harriet_Taylor_Mill', 'Robert_Boyle', 'Ibn_Arabi', 'egalitarian', 'Pyrrho', 'Absurdism', 'Miguel_de_Unamuno', 'Alcuin', 'Ray_Brassier', 'Ernest_Renan', 'Karl_Jaspers', 'Ernst_Jünger', 'René_Guénon', 'Thales', 'Gorgias', 'Social_contract', 'Pierre_Bourdieu', 'William_Godwin', 'Aristotelianism', 'Nicholas_of_Cusa', 'Contemporary_philosophy', 'Derek_Parfit', 'Lucretius', 'Jeremy_Bentham', 'Nick_Land', 'Linguist', 'Sophist', 'calculus', 'Anicius_Manlius_Severinus_Boethius', 'John_Locke', 'René_Descartes', 'Leucippus', 'Xenocrates', 'Philosophical_poets', 'George_Santayana', 'Timeline_of_Eastern_philosophers', 'Faqīh', 'Aristarchus_of_Samos', 'Radical_empiricism', 'Objectivism', 'William_of_Ockham', 'Ulama', 'Legal_positivism', 'mysticism', 'Proclus', 'atheist', 'Poet', 'Hippias', 'Jonathan_Edwards_(theologian)', 'Alexis_de_Tocqueville', 'Voltaire', 'Prodicus', 'Empiricist', 'Georges_Bataille', 'Johann_Gottfried_von_Herder', 'Leo_Strauss', 'Idealist', 'probability', 'Eudoxus_of_Cnidus', 'Kurt_Gödel', 'Al-Biruni', 'Thomas_Jefferson', 'Pragmaticism', 'Karl_Popper', 'Plato', 'Ramon_Llull', 'Johannes_Kepler', 'The_Structure_of_Scientific_Revolutions', 'Eleatic', 'Gilbert_Ryle', 'Thomas_Nagel', 'Julien_La_Mettrie', 'epistemology', 'Melissus_of_Samos', 'Hippolyte_Taine', 'Jan_Łukasiewicz', 'Alain_Badiou', 'Edmund_Burke', 'Margaret_Cavendish', 'Maurice_Merleau-Ponty', 'Saadia_Gaon', 'theurgy', 'Ionian_School_(philosophy)', 'Euclid', 'David_Benatar', 'Utilitarian', 'Ibn_Khaldun', 'Integral_theory_(Ken_Wilber)', 'Jean-Paul_Sartre', 'Scholasticism', 'Scottish_Enlightenment', 'Gottlob_Frege', 'Panpsychism', 'Mechanicism', 'François_de_La_Rochefoucauld_(writer)', 'Cratylus', 'Max_Stirner', 'Jacques_Lacan', 'Carl_Jung', 'Samuel_von_Pufendorf', 'Joseph_de_Maistre', 'Marsilius_of_Padua', 'Chrysippus', 'polymath', 'Émile_Durkheim', 'Samuel_Taylor_Coleridge', 'Vitalism', 'Vilfredo_Pareto', 'George_Herbert_Mead', 'Giovanni_Gentile', 'Antisthenes', 'Individualist', 'Philosophy_of_science', 'Direct_realism', 'Marin_Mersenne', 'Ibn_Taymiyyah', 'Structuralism', 'Political_realism', 'Ernst_Cassirer', 'Hubert_Dreyfus', 'Plutarch', 'Legal_positivist', 'Postcolonialism', 'Naturalism_(philosophy)', 'skeptic', 'Henri_Poincaré', 'Humanism', 'Charles_Taylor_(philosopher)', 'Phenomenology_(philosophy)', 'Bernard_Bolzano', 'Gilles_Deleuze', 'Conservatism', 'Michel_de_Montaigne', 'Theodor_Adorno', 'Marsilio_Ficino', 'Saul_Kripke', 'dialectic', 'John_Calvin', 'Skeptic', 'Social_philosopher', 'Susanne_Langer', 'Thomas_Sowell', 'Qualia', 'Thomas_Reid', 'free_will', 'Xenophon', 'John_Philoponus', 'empiricist', 'Fakhr_al-Din_al-Razi', 'Friedrich_Hayek', 'Scientist', 'mind-body_dualism', 'Absolute_monarchy', 'Thomas_Hobbes', 'Socrates', 'Michel_Onfray', 'Friedrich_Hölderlin', 'Theophrastus', 'Omar_Khayyam', 'virtue_ethics', 'Analytic_philosopher', 'Galileo_Galilei', 'Cartesianism', 'nontheist', 'Fibonacci', 'Thomas_Carlyle', 'Hans-Hermann_Hoppe', 'Max_Horkheimer', 'Democritus', 'Charles_Sanders_Peirce', 'Edmund_Husserl', 'John_Rawls', 'John_Flamsteed', 'Neoplatonism', 'Jürgen_Habermas', 'Epicurean', 'Atheist', 'Cornel_West', 'Madame_de_Staël', 'heliocentrism', 'Albert_Camus', 'queer_theory', 'Allan_Bloom', 'Pragmatism', 'María_Zambrano', 'Alenka_Zupančič', 'Ibn_Hazm', 'Joseph_Campbell', 'List_of_years_in_philosophy', 'Pierre-Simon_Laplace', 'Modal_realism', 'Critic', 'biopolitics', 'Pseudo-Dionysius_the_Areopagite', 'ontological_argument', 'Carneades', 'philosophers', 'Nick_Bostrom', 'German_Idealism', 'Gabriel_Marcel', 'Pierre_Bayle', 'Hero_of_Alexandria', 'Dimitrie_Cantemir', 'Alasdair_MacIntyre', 'Sojourner_Truth', 'Isaac_Newton', 'Alexander_Gottlieb_Baumgarten', 'Milesian_school', 'Anarchist_communism', 'Thomas_Aquinas', 'Ken_Wilber', 'Atomist', 'logical_positivism', 'Liberalism', 'Aristippus', 'Ibn_Sina', 'Cicero', 'Jacques-Bénigne_Bossuet', 'Natural_law', 'Epictetus', 'Discourse_ethics', 'Quintilian', 'Divine_right_of_kings', 'Albert_the_Great', 'Martha_Nussbaum', 'Rosa_Luxemburg', 'Zeno_of_Citium', 'Protagoras', 'Hermann_Cohen', 'Marshall_McLuhan', 'Giorgio_Agamben', 'Patrimonialism', 'John_Stuart_Mill', 'Plotinus', 'Hermeneutics', 'Michel_Foucault', 'Logician', 'utilitarian', 'historical_materialism', 'Islamic_philosopher', 'Josiah_Royce', 'Jacques_Maritain', 'Meister_Eckhart', 'Friedrich_Nietzsche', 'Claude_Adrien_Helvétius', 'Bruno_Latour', 'Søren_Kierkegaard', 'Ludwig_Wittgenstein', 'positivist', 'Jean_Baudrillard', 'Michael_Oakeshott', 'Immanuel_Kant', 'Mortimer_Adler', 'Paul_Ricœur', 'James_Mill', 'Lorenzo_Valla', 'Monarchism', 'Nihilism', 'Herman_Dooyeweerd', 'Gayatri_Chakravorty_Spivak', 'Aristotle', 'Tom_Regan', 'Postmodernism', 'Egalitarian', 'existentialism', 'Anaxagoras', 'Emma_Goldman', 'Johann_Georg_Hamann', 'Lacanian_Psychoanalysis', 'Jean_Meslier', 'Feminism', 'rationalism', 'Animal_Liberation_(book)', 'Averroes', 'Heliocentrism', 'Moritz_Schlick', 'Max_Weber', 'Pythagoras', 'Henri_Bergson', 'Friedrich_Schiller', 'Hypatia', 'Heraclitus', 'John_Wycliffe', 'Political_Philosophy', 'Philipp_Mainländer', 'Herbert_Spencer', 'Marxism', 'polity', 'Anarchist', 'fascist', 'Jean-Luc_Nancy', 'Frantz_Fanon', 'determinist', 'Neoplatonism', 'Thomas_More', 'Martin_Heidegger', 'Raymond_Aron', 'Giordano_Bruno', 'Francis_Hutcheson_(philosopher)', 'Augustus_De_Morgan', 'Semiotics', 'Auguste_Comte', 'Hilary_Putnam', 'Haskalah', 'Richard_Rorty', 'Transcendentalism', 'Jewish_philosopher', 'Robert_Nozick', 'liquid_modernity', 'Cesare_Beccaria', 'Original_Sin', 'rationalist', 'Friedrich_Heinrich_Jacobi', 'neoplatonist', 'Herbert_Marcuse', 'Elizabeth_Cady_Stanton', 'Christian_Wolff_(philosopher)', 'evolutionist', 'Political_philosophy', 'Anthroposophy', 'neoplatonic', 'Giuseppe_Peano', 'Alfred_North_Whitehead', 'Rudolf_Carnap', 'Robert_Grosseteste', 'Antonio_Gramsci', 'Christian_philosopher', 'Carl_Schmitt', 'Marxist', 'Zeno_of_Elea', 'José_Ortega_y_Gasset', 'Georg_Lukács', 'Iamblichus_(philosopher)', 'Hipparchus_of_Nicaea', 'John_Toland', 'Jewish_philosophy', 'Al-Ghazali', 'Neoplatonist', 'Wilfrid_Sellars', 'redundancy_theory_of_truth', 'Nicole_Oresme', 'Philosophy_of_Social_Science', 'Coherentism', 'pacifist', 'Deconstruction', 'Pyrrhonist', 'Bertrand_Russell', 'Speusippus', 'Islamic_philosophy', 'Mathematician', 'Western_Christian', 'Dante_Alighieri', 'Zygmunt_Bauman', 'Hasdai_Crescas', 'Niccolò_Machiavelli', 'Simone_Weil', 'Diogenes_of_Sinope', 'Augustine_of_Hippo', 'Nikolai_Berdyaev', 'Etienne_de_Condillac', 'Alan_Turing', 'Poststructuralist', 'Stoicism', 'Xenophanes', 'Rudolf_Steiner', 'mysticism', 'David_Hume', 'Media_theory', 'German_idealist', 'Philo', 'Strato_of_Lampsacus', 'Humanism', 'Ludwig_von_Mises', 'Desiderius_Erasmus', 'Emmanuel_Levinas', 'Cyrenaics', 'Mulla_Sadra', 'Moses_Mendelssohn']]}\n"
     ]
    }
   ],
   "source": [
    "from wiki_utils import getJsonResponse, findLinks\n",
    "\n",
    "western_eastern_links = [\n",
    "\t\"Timeline of Eastern philosophers\",\n",
    "\t\"Timeline of Western philosophers\"\n",
    "]\n",
    "\n",
    "western_eastern_data = {}\n",
    "for western_eastern_list in western_eastern_links:\n",
    "\twiki_markup = getJsonResponse(western_eastern_list)\n",
    "\tphilosopher_list = findLinks(wiki_markup)\n",
    "\tif western_eastern_list not in western_eastern_data:\n",
    "\t\t\twestern_eastern_data[western_eastern_list] = []\n",
    "\twestern_eastern_data[western_eastern_list].append(philosopher_list)\n",
    "\n",
    "for western_eastern_list in western_eastern_data:\n",
    "\t\twestern_eastern_data[western_eastern_list] = [link for sublist in western_eastern_data[western_eastern_list] for link in sublist]"
   ]
  }
 ],
 "metadata": {
  "kernelspec": {
   "display_name": "base",
   "language": "python",
   "name": "python3"
  },
  "language_info": {
   "codemirror_mode": {
    "name": "ipython",
    "version": 3
   },
   "file_extension": ".py",
   "mimetype": "text/x-python",
   "name": "python",
   "nbconvert_exporter": "python",
   "pygments_lexer": "ipython3",
   "version": "3.11.5"
  }
 },
 "nbformat": 4,
 "nbformat_minor": 2
}
