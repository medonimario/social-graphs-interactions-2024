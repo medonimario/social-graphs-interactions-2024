{
 "cells": [
  {
   "cell_type": "code",
   "execution_count": 37,
   "metadata": {},
   "outputs": [],
   "source": [
    "import pickle\n",
    "import os\n",
    "import re\n",
    "from wiki_utils import get_category_data\n",
    "from network_utils import filter_graph_by_attribute, count_nodes_by_attribute\n",
    "from sklearn.cluster import KMeans\n",
    "\n",
    "DOWNLOADS_DIR = \"downloads\"\n",
    "RANDOM_STATE = 42\n",
    "# load graph:\n",
    "S = pickle.load(open(\"graph.pkl\", \"rb\"))\n",
    "S_undirected = S.to_undirected()"
   ]
  },
  {
   "cell_type": "markdown",
   "metadata": {},
   "source": [
    "# Extracting Communities from Wikipedia"
   ]
  },
  {
   "cell_type": "markdown",
   "metadata": {},
   "source": [
    "## (A) Using `region` (Not used)"
   ]
  },
  {
   "cell_type": "markdown",
   "metadata": {},
   "source": [
    "### Creating `S_region`\n",
    "Finds region in wikitext downloaded and adds it to the network (if multiple exist it takes the first region)"
   ]
  },
  {
   "cell_type": "code",
   "execution_count": 38,
   "metadata": {},
   "outputs": [],
   "source": [
    "S_subfields = S_undirected.copy()\n",
    "\n",
    "region_pattern = r'\\|\\s*region\\s*=\\s*\\[\\[([^\\]]+)\\]\\]'\n",
    "nodes_to_remove = []  # Collect nodes to remove\n",
    "\n",
    "for node in list(S_subfields.nodes):\n",
    "\tnode_file_name = DOWNLOADS_DIR + \"/\" + node + \".txt\"\n",
    "\tif os.path.exists(node_file_name):\n",
    "\t\ttry:\n",
    "\t\t\twith open(node_file_name, 'r', encoding='utf-8') as f:\n",
    "\t\t\t\ttext = f.read()\n",
    "\t\t\t\tmatches = re.search(region_pattern, text)\n",
    "\t\t\t\tif matches:\n",
    "\t\t\t\t\t# Extract all individual regions from the matched string\n",
    "\t\t\t\t\tregions = re.findall(r'\\[\\[([^\\]]+)\\]\\]', matches.group(0))\n",
    "\t\t\t\t\tS_subfields.nodes[node]['region'] = regions[0]\n",
    "\t\t\t\telse:\n",
    "\t\t\t\t\tnodes_to_remove.append(node)  # Mark node for removal\n",
    "\t\texcept Exception as e:\n",
    "\t\t\tprint(f\"Error processing node {node}: {e}\")\n",
    "\telse:\n",
    "\t\tnodes_to_remove.append(node)  # Mark node for removal if file does not exist\n",
    "S_subfields.remove_nodes_from(nodes_to_remove)"
   ]
  },
  {
   "cell_type": "code",
   "execution_count": 39,
   "metadata": {},
   "outputs": [
    {
     "name": "stdout",
     "output_type": "stream",
     "text": [
      "Original graph:  DiGraph with 1366 nodes and 10856 edges\n",
      "Region graph:  Graph with 557 nodes and 3527 edges\n",
      "('Barry_Stroud', {'contentlength': 1909, 'region': 'Western philosophy'})\n"
     ]
    }
   ],
   "source": [
    "print(\"Original graph: \", S)\n",
    "print(\"Region graph: \", S_subfields)\n",
    "print(list(S_subfields.nodes(data=True))[143])"
   ]
  },
  {
   "cell_type": "markdown",
   "metadata": {},
   "source": [
    "### Generating the communities"
   ]
  },
  {
   "cell_type": "code",
   "execution_count": 40,
   "metadata": {},
   "outputs": [
    {
     "name": "stdout",
     "output_type": "stream",
     "text": [
      "Region communities with length:\n",
      "Region: Western philosophy, Length: 496\n",
      "Region: Mithila region, Length: 1\n",
      "Region: German philosophy, Length: 1\n",
      "Region: Western philosophy|Western, Length: 1\n",
      "Region: Indian philosophy, Length: 1\n",
      "Region: Chinese philosophy, Length: 6\n",
      "Region: Middle East, Length: 1\n",
      "Region: Russian philosophy, Length: 10\n",
      "Region: Balkans, Length: 1\n",
      "Region: Safavid Persia, Length: 1\n",
      "Region: Greater Iran|Persia, Length: 1\n",
      "Region: Middle Eastern philosophy, Length: 4\n",
      "Region: Christian philosophy, Length: 1\n",
      "Region: African philosophy, Length: 1\n",
      "Region: Africana philosophy, Length: 1\n",
      "Region: Western Philosophy, Length: 3\n",
      "Region: Jewish philosophy, Length: 2\n",
      "Region: Eastern philosophy, Length: 5\n",
      "Region: Ancient Greek philosophy, Length: 1\n",
      "Region: Islamic philosophy, Length: 3\n",
      "Region: Teng (state)|Teng, Length: 1\n",
      "Region: Persia, Length: 2\n",
      "Region: Byzantine Empire, Length: 1\n",
      "Region: Austria, Length: 1\n",
      "Region: British Unitarianism, Length: 1\n",
      "Region: American philosophy, Length: 2\n",
      "Region: Japanese philosophy, Length: 1\n",
      "Region: Ancient philosophy, Length: 1\n",
      "Region: Spanish philosophy, Length: 1\n",
      "Region: Greek philosophy, Length: 1\n",
      "Region: East Asian philosophy, Length: 1\n",
      "Region: Seljuq Empire, Length: 1\n",
      "Region: Al-Andalus, Length: 1\n",
      "Region: Roman Egypt, Length: 1\n"
     ]
    }
   ],
   "source": [
    "region_partition = {}\n",
    "\n",
    "for node, data in S_subfields.nodes(data=True):\n",
    "\t\tgenre = data.get('region')\n",
    "\t\tif genre not in region_partition:\n",
    "\t\t\tregion_partition[genre] = []\n",
    "\t\tregion_partition[genre].append(node)\n",
    "\n",
    "print(\"Region communities with length:\")\n",
    "for genre, nodes in region_partition.items():\n",
    "\t\tprint(f\"Region: {genre}, Length: {len(nodes)}\")"
   ]
  },
  {
   "cell_type": "markdown",
   "metadata": {},
   "source": [
    "Only western philosophy is the big one."
   ]
  },
  {
   "cell_type": "markdown",
   "metadata": {},
   "source": [
    "## (B) Using `subfield`\n",
    "https://en.wikipedia.org/wiki/Lists_of_philosophers"
   ]
  },
  {
   "cell_type": "markdown",
   "metadata": {},
   "source": [
    "### (B.1) Extracting subfield information"
   ]
  },
  {
   "cell_type": "code",
   "execution_count": 41,
   "metadata": {},
   "outputs": [],
   "source": [
    "subfield_links = [\n",
    "\t\t\"List of aestheticians\",\n",
    "\t\t\"List of critical theorists\",\n",
    "\t\t\"List of environmental philosophers\",\n",
    "\t\t\"List of epistemologists\",\n",
    "\t\t\"List of ethicists\",\n",
    "\t\t\"List of existentialists\",\n",
    "\t\t\"List of feminist philosophers\",\n",
    "\t\t\"List of secular humanists\", #List of Humanists redirect\n",
    "\t\t\"List of logicians\",\n",
    "\t\t\"List of metaphysicians\",\n",
    "\t\t\"Index of sociopolitical thinkers\", #List of Social and Political Philosophers redirect\n",
    "\t\t\"List of phenomenologists\",\n",
    "\t\t\"List of philosophers of language\",\n",
    "\t\t\"List of philosophers of mind\",\n",
    "\t\t\"List of philosophers of religion\",\n",
    "\t\t\"List of philosophers of science\",\n",
    "\t\t\"List of political philosophers\",\n",
    "\t\t\"List of political theorists\",\n",
    "\t\t\"List of rationalists\",\n",
    "\t\t\"List of utilitarians\"\n",
    "]"
   ]
  },
  {
   "cell_type": "markdown",
   "metadata": {},
   "source": [
    "- Option 1: **Fetch the data from Wikipedia** (takes around 5 seconds)"
   ]
  },
  {
   "cell_type": "code",
   "execution_count": 42,
   "metadata": {},
   "outputs": [
    {
     "name": "stdout",
     "output_type": "stream",
     "text": [
      "- aestheticians: 86\n",
      "- critical theorists: 107\n",
      "- environmental philosophers: 80\n",
      "- epistemologists: 122\n",
      "- ethicists: 287\n",
      "- existentialists: 60\n",
      "- feminist philosophers: 134\n",
      "- secular humanists: 413\n",
      "- logicians: 291\n",
      "- metaphysicians: 184\n",
      "- sociopolitical thinkers: 245\n",
      "- phenomenologists: 24\n",
      "- philosophers of language: 141\n",
      "- philosophers of mind: 140\n",
      "- philosophers of religion: 110\n",
      "- philosophers of science: 111\n",
      "- political philosophers: 199\n",
      "- political theorists: 137\n",
      "- rationalists: 27\n",
      "- utilitarians: 104\n",
      "Total = 2183\n"
     ]
    }
   ],
   "source": [
    "replace_terms_subfields = [(\"List of\", \"\"), (\"Index of\", \"\")]\n",
    "clean_subfield_data, philosopher_subfield_info = get_category_data(\n",
    "    subfield_links, replace_terms_subfields, verbose=True\n",
    ")\n",
    "pickle.dump(philosopher_subfield_info, open(\"philosopher_subfield_info.pkl\", \"wb\")) # Saved as local version for later use\n",
    "\n",
    "print(\"Total =\", len(philosopher_subfield_info))"
   ]
  },
  {
   "cell_type": "markdown",
   "metadata": {},
   "source": [
    "- Option 2: **Use local pickle file** from last time option 1 was run"
   ]
  },
  {
   "cell_type": "code",
   "execution_count": 43,
   "metadata": {},
   "outputs": [],
   "source": [
    "philosopher_subfield_info = pickle.load(open(\"philosopher_subfield_info.pkl\", \"rb\"))"
   ]
  },
  {
   "cell_type": "markdown",
   "metadata": {},
   "source": [
    "### (B.2) Creating `S.subfields` network"
   ]
  },
  {
   "cell_type": "code",
   "execution_count": 44,
   "metadata": {},
   "outputs": [
    {
     "name": "stdout",
     "output_type": "stream",
     "text": [
      "Did not find subfields for: 771 philosophers (therefore not included in the filtered graph)\n",
      " -> Example of removed nodes: ['Agon_Hamza', 'Shinran', 'Paul_Mattick']\n",
      "Original graph: 1366 nodes and 9024 edges\n",
      "Filtered 'subfields' graph: 595 nodes and 4232 edges\n",
      "Subfield graph:  Graph with 595 nodes and 4232 edges\n",
      "--------------------------------------------------\n",
      "Number of nodes by subfields:\n",
      " -> metaphysicians: 118\n",
      " -> aestheticians: 51\n",
      " -> logicians: 89\n",
      " -> sociopolitical thinkers: 131\n",
      " -> political philosophers: 135\n",
      " -> political theorists: 73\n",
      " -> critical theorists: 41\n",
      " -> ethicists: 115\n",
      " -> feminist philosophers: 23\n",
      " -> epistemologists: 78\n",
      " -> philosophers of language: 68\n",
      " -> philosophers of mind: 57\n",
      " -> philosophers of science: 45\n",
      " -> secular humanists: 34\n",
      " -> rationalists: 17\n",
      " -> philosophers of religion: 49\n",
      " -> utilitarians: 29\n",
      " -> phenomenologists: 11\n",
      " -> existentialists: 7\n",
      " -> environmental philosophers: 8\n",
      "--------------------------------------------------\n"
     ]
    }
   ],
   "source": [
    "S_subfields = filter_graph_by_attribute(\n",
    "    graph=S_undirected,\n",
    "    attribute_info=philosopher_subfield_info,\n",
    "    attribute_name='subfields',\n",
    "    verbose=True\n",
    ")\n",
    "print(\"Subfield graph: \", S_subfields)\n",
    "print(\"-\"*50)\n",
    "count_nodes_by_attribute(S_subfields, 'subfields', verbose=True)\n",
    "print(\"-\"*50)\n"
   ]
  },
  {
   "cell_type": "markdown",
   "metadata": {},
   "source": [
    "## (C) Using `tradition` (western/eastern divide)"
   ]
  },
  {
   "cell_type": "markdown",
   "metadata": {},
   "source": [
    "### (C.1) Extracting information from wikipedia"
   ]
  },
  {
   "cell_type": "markdown",
   "metadata": {},
   "source": [
    "- Option 1: Extract from wikipedia"
   ]
  },
  {
   "cell_type": "code",
   "execution_count": 45,
   "metadata": {},
   "outputs": [
    {
     "name": "stdout",
     "output_type": "stream",
     "text": [
      "- Eastern philosophers: 343\n",
      "- Western philosophers: 565\n",
      "Total = 893\n"
     ]
    }
   ],
   "source": [
    "tradition_links = [\n",
    "\t\"Timeline of Eastern philosophers\",\n",
    "\t\"Timeline of Western philosophers\"\n",
    "]\n",
    "\n",
    "replace_terms_traditions = [(\"Timeline of\", \"\")]\n",
    "clean_tradition_data, philosopher_tradition_info = get_category_data(\n",
    "    tradition_links, replace_terms_traditions, verbose=True\n",
    ")\n",
    "pickle.dump(philosopher_tradition_info, open(\"philosopher_tradition_info.pkl\", \"wb\")) # Saved as local version for later use\n",
    "print(\"Total =\", len(philosopher_tradition_info))"
   ]
  },
  {
   "cell_type": "markdown",
   "metadata": {},
   "source": [
    "- Option 2: **Use local pickle file** from last time option 1 was run"
   ]
  },
  {
   "cell_type": "code",
   "execution_count": 46,
   "metadata": {},
   "outputs": [],
   "source": [
    "philosopher_tradition_info = pickle.load(open(\"philosopher_tradition_info.pkl\", \"rb\"))"
   ]
  },
  {
   "cell_type": "markdown",
   "metadata": {},
   "source": [
    "### (C.2) Creating `S_tradition` network"
   ]
  },
  {
   "cell_type": "code",
   "execution_count": 47,
   "metadata": {},
   "outputs": [
    {
     "name": "stdout",
     "output_type": "stream",
     "text": [
      "Did not find tradition for: 1020 philosophers (therefore not included in the filtered graph)\n",
      " -> Example of removed nodes: ['Agon_Hamza', 'Philip_the_Chancellor', 'Paul_Mattick']\n",
      "Original graph: 1366 nodes and 9024 edges\n",
      "Filtered 'tradition' graph: 346 nodes and 2562 edges\n",
      "--------------------------------------------------\n",
      "Number of nodes by tradition:\n",
      " -> Western philosophers: 279\n",
      " -> Eastern philosophers: 69\n",
      "--------------------------------------------------\n"
     ]
    }
   ],
   "source": [
    "S_tradition = filter_graph_by_attribute(\n",
    "    graph=S_undirected,\n",
    "    attribute_info=philosopher_tradition_info,\n",
    "    attribute_name='tradition',\n",
    "    verbose=True\n",
    ")\n",
    "\n",
    "print(\"-\"*50)\n",
    "count_nodes_by_attribute(S_tradition, 'tradition', verbose=True)\n",
    "print(\"-\"*50)"
   ]
  },
  {
   "cell_type": "markdown",
   "metadata": {},
   "source": [
    "# Partitioning"
   ]
  },
  {
   "cell_type": "markdown",
   "metadata": {},
   "source": [
    "## Imports and definitions"
   ]
  },
  {
   "cell_type": "code",
   "execution_count": 48,
   "metadata": {},
   "outputs": [],
   "source": [
    "# Install community package if not already installed\n",
    "#%pip install python-louvain"
   ]
  },
  {
   "cell_type": "code",
   "execution_count": 49,
   "metadata": {},
   "outputs": [],
   "source": [
    "from community import community_louvain\n",
    "import networkx as nx\n",
    "import networkx.algorithms.community as nx_comm\n",
    "import numpy as np\n",
    "import matplotlib.pyplot as plt\n",
    "from collections import Counter\n",
    "from sklearn.cluster import KMeans\n",
    "\n",
    "def create_partition_using_attribute(graph, attribute_name):\n",
    "\tpartition = {}\n",
    "\tfor node, data in graph.nodes(data=True):\n",
    "\t\tattribute = data.get(attribute_name)\n",
    "\t\tif isinstance(attribute, list):\n",
    "\t\t\tattribute = attribute[0]\n",
    "\t\tif attribute is not None:\n",
    "\t\t\t\tpartition[node] = attribute\n",
    "\treturn partition\n",
    "\n",
    "def get_louvain_modularity(graph, partition_dict):\n",
    "\treturn f\"{community_louvain.modularity(partition_dict, graph):.4f}\"\n",
    "\n",
    "def plot_partition_heatmap(graph, attribute_partition, louvain_partition, attribute_name, top_n=7, title=\"Confusion Matrix\"):\n",
    "    \"\"\"\n",
    "    Plots a confusion matrix heatmap comparing attribute-based partition and Louvain community partition.\n",
    "\n",
    "    Args:\n",
    "        graph (networkx.Graph): The graph to analyze.\n",
    "        attribute_partition (dict): Partition mapping nodes to their attributes.\n",
    "        louvain_partition (dict): Louvain partition mapping nodes to communities.\n",
    "        attribute_name (str): Name of the attribute (e.g., 'subfields' or 'tradition').\n",
    "        top_n (int): Number of top attributes and communities to consider for the heatmap.\n",
    "        title (str): Title of the heatmap.\n",
    "    \"\"\"\n",
    "    # Step 1: Identify top attributes and communities\n",
    "    attribute_counts = Counter(attribute_partition.values())\n",
    "    top_attributes = [attribute for attribute, _ in attribute_counts.most_common(top_n)]\n",
    "\n",
    "    community_counts = Counter(louvain_partition.values())\n",
    "    top_communities = [community for community, _ in community_counts.most_common(top_n)]\n",
    "\n",
    "    # Step 2: Map attributes and communities to matrix indices\n",
    "    attribute_to_index = {attribute: idx for idx, attribute in enumerate(top_attributes)}\n",
    "    community_to_index = {community: idx for idx, community in enumerate(top_communities)}\n",
    "\n",
    "    # Step 3: Initialize confusion matrix D\n",
    "    D = np.zeros((top_n, top_n), dtype=int)\n",
    "\n",
    "    # Step 4: Populate the confusion matrix\n",
    "    for node in graph.nodes:\n",
    "        attribute = attribute_partition.get(node)  # Get node's attribute\n",
    "        community = louvain_partition.get(node)  # Get node's Louvain community\n",
    "\n",
    "        # Only consider top attributes and communities\n",
    "        if community in community_to_index and attribute in attribute_to_index:\n",
    "            i = attribute_to_index[attribute]\n",
    "            j = community_to_index[community]\n",
    "            D[i, j] += 1\n",
    "\n",
    "    # Step 5: Create the heatmap\n",
    "    plt.figure(figsize=(7, 7))\n",
    "    plt.imshow(D, interpolation='nearest', cmap='Blues')\n",
    "\n",
    "    # Add text annotations for each cell\n",
    "    for i in range(D.shape[0]):\n",
    "        for j in range(D.shape[1]):\n",
    "            plt.text(j, i, int(D[i, j]), ha=\"center\", va=\"center\", color=\"black\")\n",
    "\n",
    "    # Add titles, labels, and ticks\n",
    "    plt.title(title)\n",
    "    plt.xlabel('Communities')\n",
    "    plt.ylabel(f'{attribute_name.capitalize()}')\n",
    "\n",
    "    # Set tick labels\n",
    "    plt.xticks(np.arange(len(top_communities)), [f\"C {c}\" for c in top_communities])\n",
    "    plt.yticks(np.arange(len(top_attributes)), top_attributes)\n",
    "\n",
    "    # Add a color bar\n",
    "    plt.colorbar()\n",
    "    plt.show()\n",
    "    \n",
    "\n",
    "# def louvain_kmeans_partition(graph, num_clusters, use_adjacency=True):\n",
    "#     \"\"\"\n",
    "#     Runs Louvain community detection, creates a feature matrix, and reclusters nodes into a specified number of communities using k-means.\n",
    "    \n",
    "#     Args:\n",
    "#         graph (networkx.Graph): The input graph.\n",
    "#         num_clusters (int): Desired number of communities for k-means clustering.\n",
    "#         random_state (int): Random seed for reproducibility.\n",
    "#         use_adjacency (bool): Whether to use the adjacency matrix as the feature matrix.\n",
    "        \n",
    "#     Returns:\n",
    "#         dict: A dictionary mapping nodes to their new community labels.\n",
    "#     \"\"\"\n",
    "#     # Step 1: Run Louvain community detection\n",
    "#     louvain_partition = community_louvain.best_partition(graph)\n",
    "    \n",
    "#     # Step 2: Create a feature matrix\n",
    "#     nodes = list(graph.nodes())\n",
    "#     if use_adjacency:\n",
    "#         # Use adjacency matrix as feature matrix\n",
    "#         feature_matrix = nx.to_numpy_array(graph)\n",
    "#     else:\n",
    "#         # Use Louvain partition as a feature (one-hot encoded)\n",
    "#         louvain_features = np.zeros((len(nodes), max(louvain_partition.values()) + 1))\n",
    "#         for i, node in enumerate(nodes):\n",
    "#             louvain_features[i, louvain_partition[node]] = 1\n",
    "#         feature_matrix = louvain_features\n",
    "\n",
    "#     # Step 3: Run k-means clustering\n",
    "#     kmeans = KMeans(n_clusters=num_clusters, random_state=RANDOM_STATE, n_init=10)\n",
    "#     labels = kmeans.fit_predict(feature_matrix)\n",
    "\n",
    "#     # Step 4: Map nodes to new communities\n",
    "#     new_partition = {nodes[i]: labels[i] for i in range(len(nodes))}\n",
    "    \n",
    "#     return new_partition"
   ]
  },
  {
   "cell_type": "markdown",
   "metadata": {},
   "source": [
    "## `S_subfields`"
   ]
  },
  {
   "cell_type": "markdown",
   "metadata": {},
   "source": [
    "Each node is characterized by the first `subfield` if there are multiple."
   ]
  },
  {
   "cell_type": "code",
   "execution_count": null,
   "metadata": {},
   "outputs": [
    {
     "name": "stdout",
     "output_type": "stream",
     "text": [
      "Subfields partion Modularity =  0.0874\n",
      "Louvain partion Modularity =  0.4240\n"
     ]
    }
   ],
   "source": [
    "subfields_partition = create_partition_using_attribute(S_subfields, 'subfields')\n",
    "subfields_partition_modularity = get_louvain_modularity(S_subfields, subfields_partition)\n",
    "print(\"Subfields partition Modularity = \", subfields_partition_modularity)\n",
    "\n",
    "louvain_partition_S_subfields = community_louvain.best_partition(S_subfields, random_state=RANDOM_STATE)\n",
    "print(\"Louvain partition Modularity = \", get_louvain_modularity(S_subfields, louvain_partition_S_subfields))\n",
    "\n",
    "# louvain_partition_S_subfields_kmeans = louvain_kmeans_partition(S_subfields, len(subfield_links))\n",
    "# print(\"Louvain partition (with KMeans community limit) Modularity = \", get_louvain_modularity(S_subfields, louvain_partition_S_subfields_kmeans))"
   ]
  },
  {
   "cell_type": "code",
   "execution_count": 51,
   "metadata": {},
   "outputs": [],
   "source": [
    "# Save the predefined subfields partition\n",
    "with open(\"subfields_partition.pkl\", \"wb\") as f:\n",
    "    pickle.dump(subfields_partition, f)\n",
    "\n",
    "\n",
    "# Save the Louvain subfields partition\n",
    "with open(\"louvain_partition_subfields.pkl\", \"wb\") as f:\n",
    "    pickle.dump(louvain_partition_S_subfields, f)"
   ]
  },
  {
   "cell_type": "code",
   "execution_count": 52,
   "metadata": {},
   "outputs": [
    {
     "data": {
      "image/png": "[encoded data removed]",
      "text/plain": [
       "<Figure size 700x700 with 2 Axes>"
      ]
     },
     "metadata": {},
     "output_type": "display_data"
    }
   ],
   "source": [
    "plot_partition_heatmap(\n",
    "    graph=S_subfields,\n",
    "    attribute_partition=subfields_partition,\n",
    "    louvain_partition=louvain_partition_S_subfields,\n",
    "    attribute_name='subfields',\n",
    "    title='Confusion Matrix (Subfields vs Communities)'\n",
    ")"
   ]
  },
  {
   "cell_type": "markdown",
   "metadata": {},
   "source": [
    "## `S_tradition`"
   ]
  },
  {
   "cell_type": "code",
   "execution_count": 53,
   "metadata": {},
   "outputs": [
    {
     "name": "stdout",
     "output_type": "stream",
     "text": [
      "Tradition partion Modularity =  0.0802\n",
      "Louvain partion Modularity =  0.3952\n"
     ]
    }
   ],
   "source": [
    "tradition_partition = create_partition_using_attribute(S_tradition, 'tradition')\n",
    "tradition_partition_modularity = get_louvain_modularity(S_tradition, tradition_partition)\n",
    "\n",
    "print(\"Tradition partion Modularity = \", tradition_partition_modularity)\n",
    "\n",
    "louvain_partition_S_tradition = community_louvain.best_partition(S_tradition, random_state=RANDOM_STATE)\n",
    "print(\"Louvain partion Modularity = \", get_louvain_modularity(S_tradition, louvain_partition_S_tradition))\n",
    "\n",
    "# louvain_partition_S_tradition_kmeans = louvain_kmeans_partition(S_tradition, 2)\n",
    "# print(\"Louvain partion (with KMeans community limit) Modularity = \", get_louvain_modularity(S_tradition, louvain_partition_S_tradition_kmeans))"
   ]
  },
  {
   "cell_type": "code",
   "execution_count": 54,
   "metadata": {},
   "outputs": [],
   "source": [
    "# Save the predefined tradition partition\n",
    "with open(\"tradition_partition.pkl\", \"wb\") as f:\n",
    "    pickle.dump(tradition_partition, f)\n",
    "\n",
    "# Save the Louvain tradition partition\n",
    "with open(\"louvain_partition_tradition.pkl\", \"wb\") as f:\n",
    "    pickle.dump(louvain_partition_S_tradition, f)"
   ]
  },
  {
   "cell_type": "code",
   "execution_count": 55,
   "metadata": {},
   "outputs": [
    {
     "data": {
      "image/png": "[encoded data removed]",
      "text/plain": [
       "<Figure size 700x700 with 2 Axes>"
      ]
     },
     "metadata": {},
     "output_type": "display_data"
    }
   ],
   "source": [
    "plot_partition_heatmap(\n",
    "    graph=S_tradition,\n",
    "    attribute_partition=tradition_partition,\n",
    "    louvain_partition=louvain_partition_S_tradition,\n",
    "    attribute_name='tradition',\n",
    "    top_n=2,\n",
    "\ttitle='Confusion Matrix (Traditions vs Communities)'\n",
    ")"
   ]
  }
 ],
 "metadata": {
  "kernelspec": {
   "display_name": "base",
   "language": "python",
   "name": "python3"
  },
  "language_info": {
   "codemirror_mode": {
    "name": "ipython",
    "version": 3
   },
   "file_extension": ".py",
   "mimetype": "text/x-python",
   "name": "python",
   "nbconvert_exporter": "python",
   "pygments_lexer": "ipython3",
   "version": "3.11.5"
  }
 },
 "nbformat": 4,
 "nbformat_minor": 2
}
