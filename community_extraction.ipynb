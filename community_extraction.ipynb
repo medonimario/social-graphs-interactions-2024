{
 "cells": [
  {
   "cell_type": "markdown",
   "metadata": {},
   "source": [
    "# Community Extraction"
   ]
  },
  {
   "cell_type": "code",
   "execution_count": 1,
   "metadata": {},
   "outputs": [],
   "source": [
    "import pickle\n",
    "import os\n",
    "import networkx as nx\n",
    "import re\n",
    "DOWNLOADS_DIR = \"downloads\""
   ]
  },
  {
   "cell_type": "code",
   "execution_count": 2,
   "metadata": {},
   "outputs": [],
   "source": [
    "# load graph:\n",
    "S = pickle.load(open(\"graph.pkl\", \"rb\"))"
   ]
  },
  {
   "cell_type": "markdown",
   "metadata": {},
   "source": [
    "## Using `region`"
   ]
  },
  {
   "cell_type": "markdown",
   "metadata": {},
   "source": [
    "### Creating `S_region`\n",
    "Finds region in wikitext downloaded and adds it to the network (if multiple exist it takes the first region)"
   ]
  },
  {
   "cell_type": "code",
   "execution_count": null,
   "metadata": {},
   "outputs": [],
   "source": [
    "S_subfield = S.copy()\n",
    "\n",
    "region_pattern = r'\\|\\s*region\\s*=\\s*\\[\\[([^\\]]+)\\]\\]'\n",
    "nodes_to_remove = []  # Collect nodes to remove\n",
    "\n",
    "for node in list(S_subfield.nodes):\n",
    "\tnode_file_name = DOWNLOADS_DIR + \"/\" + node + \".txt\"\n",
    "\tif os.path.exists(node_file_name):\n",
    "\t\ttry:\n",
    "\t\t\twith open(node_file_name, 'r', encoding='utf-8') as f:\n",
    "\t\t\t\ttext = f.read()\n",
    "\t\t\t\tmatches = re.search(region_pattern, text)\n",
    "\t\t\t\tif matches:\n",
    "\t\t\t\t\t# Extract all individual regions from the matched string\n",
    "\t\t\t\t\tregions = re.findall(r'\\[\\[([^\\]]+)\\]\\]', matches.group(0))\n",
    "\t\t\t\t\tS_subfield.nodes[node]['region'] = regions[0]\n",
    "\t\t\t\telse:\n",
    "\t\t\t\t\tnodes_to_remove.append(node)  # Mark node for removal\n",
    "\t\texcept Exception as e:\n",
    "\t\t\tprint(f\"Error processing node {node}: {e}\")\n",
    "\telse:\n",
    "\t\tnodes_to_remove.append(node)  # Mark node for removal if file does not exist\n",
    "S_subfield.remove_nodes_from(nodes_to_remove)"
   ]
  },
  {
   "cell_type": "code",
   "execution_count": null,
   "metadata": {},
   "outputs": [
    {
     "name": "stdout",
     "output_type": "stream",
     "text": [
      "Original graph:  DiGraph with 1366 nodes and 10850 edges\n",
      "Region graph:  DiGraph with 557 nodes and 4415 edges\n",
      "('Anaximander', {'contentlength': 7671, 'region': 'Western philosophy'})\n"
     ]
    }
   ],
   "source": [
    "print(\"Original graph: \", S)\n",
    "print(\"Region graph: \", S_subfield)\n",
    "print(list(S_subfield.nodes(data=True))[143])"
   ]
  },
  {
   "cell_type": "markdown",
   "metadata": {},
   "source": [
    "### Generating the communities"
   ]
  },
  {
   "cell_type": "code",
   "execution_count": null,
   "metadata": {},
   "outputs": [],
   "source": [
    "region_partition = {}\n",
    "\n",
    "for node, data in S_subfield.nodes(data=True):\n",
    "\t\tgenre = data.get('region')\n",
    "\t\tif genre not in region_partition:\n",
    "\t\t\tregion_partition[genre] = []\n",
    "\t\tregion_partition[genre].append(node)\n",
    "\n",
    "print(\"Region communities with length:\")\n",
    "for genre, nodes in region_partition.items():\n",
    "\t\tprint(f\"Region: {genre}, Length: {len(nodes)}\")"
   ]
  },
  {
   "cell_type": "markdown",
   "metadata": {},
   "source": [
    "Only western philosophy is the big one."
   ]
  },
  {
   "cell_type": "markdown",
   "metadata": {},
   "source": [
    "## Using `subfield`\n",
    "https://en.wikipedia.org/wiki/Lists_of_philosophers"
   ]
  },
  {
   "cell_type": "markdown",
   "metadata": {},
   "source": [
    "### Extracting subfield information"
   ]
  },
  {
   "cell_type": "code",
   "execution_count": 12,
   "metadata": {},
   "outputs": [
    {
     "name": "stdout",
     "output_type": "stream",
     "text": [
      "Subfield: Amount of philosophers categorized in this subfield\n",
      "(Multiple subfields for a philosopher is possible)\n",
      "--------------------------------------------------\n",
      "- aestheticians: 86\n",
      "- critical theorists: 107\n",
      "- environmental philosophers: 80\n",
      "- epistemologists: 122\n",
      "- ethicists: 287\n",
      "- existentialists: 60\n",
      "- feminist philosophers: 134\n",
      "- humanists: 1\n",
      "- logicians: 291\n",
      "- metaphysicians: 184\n",
      "- social and political philosophers: 1\n",
      "- phenomenologists: 24\n",
      "- philosophers of language: 141\n",
      "- philosophers of mind: 140\n",
      "- philosophers of religion: 110\n",
      "- philosophers of science: 111\n",
      "- political philosophers: 199\n",
      "- political theorists: 137\n",
      "- rationalists: 27\n",
      "- utilitarians: 104\n"
     ]
    }
   ],
   "source": [
    "from wiki_utils import getJsonResponse, findLinks\n",
    "\n",
    "subfield_links = [\n",
    "\t\t\"List of aestheticians\",\n",
    "\t\t\"List of critical theorists\",\n",
    "\t\t\"List of environmental philosophers\",\n",
    "\t\t\"List of epistemologists\",\n",
    "\t\t\"List of ethicists\",\n",
    "\t\t\"List of existentialists\",\n",
    "\t\t\"List of feminist philosophers\",\n",
    "\t\t\"List of humanists\",\n",
    "\t\t\"List of logicians\",\n",
    "\t\t\"List of metaphysicians\",\n",
    "\t\t\"List of social and political philosophers\",\n",
    "\t\t\"List of phenomenologists\",\n",
    "\t\t\"List of philosophers of language\",\n",
    "\t\t\"List of philosophers of mind\",\n",
    "\t\t\"List of philosophers of religion\",\n",
    "\t\t\"List of philosophers of science\",\n",
    "\t\t\"List of political philosophers\",\n",
    "\t\t\"List of political theorists\",\n",
    "\t\t\"List of rationalists\",\n",
    "\t\t\"List of utilitarians\"\n",
    "]\n",
    "subfield_data = {}\n",
    "\n",
    "for subfield_list in subfield_links:\n",
    "\twiki_markup = getJsonResponse(subfield_list)\n",
    "\tphilosopher_list = findLinks(wiki_markup)\n",
    "\tif subfield_list not in subfield_data:\n",
    "\t\t\tsubfield_data[subfield_list] = []\n",
    "\tsubfield_data[subfield_list].append(philosopher_list)\n",
    "\n",
    "# Flatten the list of lists for each subfield\n",
    "for subfield_list in subfield_data:\n",
    "\t\tsubfield_data[subfield_list] = [link for sublist in subfield_data[subfield_list] for link in sublist]\n",
    "\n",
    "clean_subfield_data = {}\n",
    "for subfield in subfield_data:\n",
    "\t\tcleaned_subfield = subfield.replace(\"List of\", \"\").strip()\n",
    "\t\tclean_subfield_data[cleaned_subfield] = subfield_data[subfield]\n",
    "\n",
    "\n",
    "total_philosophers = 0\n",
    "print(\"Subfield: Amount of philosophers categorized in this subfield\")\n",
    "print(\"(Multiple subfields for a philosopher is possible)\")\n",
    "print(\"-\"*50)\n",
    "\n",
    "philosopher_subfield_map = {} # Converting the subfield info to a map of philosophers to subfields\n",
    "for subfield, philosopher_list in clean_subfield_data.items():\n",
    "\tprint(f\"- {subfield}: {len(philosopher_list)}\")\n",
    "\tfor philosopher in philosopher_list:\n",
    "\t\tif philosopher not in philosopher_subfield_map:\n",
    "\t\t\tphilosopher_subfield_map[philosopher] = []\n",
    "\t\t\tphilosopher_subfield_map[philosopher].append(subfield)\n",
    "\t\t\t\t\t\n",
    "# printing\n",
    "#for philosopher_list, subfields in list(philosopher_subfield_map.items())[:10]:\n",
    "\t\t#print(f\"{philosopher_list}: {subfields}\")"
   ]
  },
  {
   "cell_type": "markdown",
   "metadata": {},
   "source": [
    "### Adding subfield info to network"
   ]
  },
  {
   "cell_type": "code",
   "execution_count": 17,
   "metadata": {},
   "outputs": [
    {
     "name": "stdout",
     "output_type": "stream",
     "text": [
      "Did not find subfield for:  801  philosophers (therefore not included in S_subfield)\n",
      "Original graph S:  DiGraph with 1366 nodes and 10850 edges\n",
      "S_subfield:  DiGraph with 565 nodes and 4789 edges\n"
     ]
    }
   ],
   "source": [
    "S_subfield = S.copy()\n",
    "\n",
    "nodes_to_remove = []  # Collect nodes to remove\n",
    "\n",
    "for node in list(S_subfield.nodes):\n",
    "\tif node in philosopher_subfield_map:\n",
    "\t\tS_subfield.nodes[node]['subfields'] = philosopher_subfield_map[node]\n",
    "\telse:\n",
    "\t\tnodes_to_remove.append(node)  # Mark node for removal if no subfield info\n",
    "\n",
    "S_subfield.remove_nodes_from(nodes_to_remove)\n",
    "print(\"Did not find subfield for: \", len(nodes_to_remove), \" philosophers (therefore not included in S_subfield)\")\n",
    "print(\"Original graph S: \", S)\n",
    "print(\"S_subfield: \", S_subfield)"
   ]
  },
  {
   "cell_type": "markdown",
   "metadata": {},
   "source": [
    "## Using western eastern divide list"
   ]
  }
 ],
 "metadata": {
  "kernelspec": {
   "display_name": "base",
   "language": "python",
   "name": "python3"
  },
  "language_info": {
   "codemirror_mode": {
    "name": "ipython",
    "version": 3
   },
   "file_extension": ".py",
   "mimetype": "text/x-python",
   "name": "python",
   "nbconvert_exporter": "python",
   "pygments_lexer": "ipython3",
   "version": "3.11.5"
  }
 },
 "nbformat": 4,
 "nbformat_minor": 2
}
