{
 "cells": [
  {
   "cell_type": "code",
   "execution_count": 1,
   "metadata": {},
   "outputs": [],
   "source": [
    "import pickle\n",
    "import os\n",
    "import re\n",
    "from wiki_utils import get_category_data\n",
    "from network_utils import filter_graph_by_attribute, count_nodes_by_attribute\n",
    "\n",
    "DOWNLOADS_DIR = \"downloads\"\n",
    "\n",
    "# load graph:\n",
    "S = pickle.load(open(\"graph.pkl\", \"rb\"))"
   ]
  },
  {
   "cell_type": "markdown",
   "metadata": {},
   "source": [
    "# Extracting Communities from Wikipedia"
   ]
  },
  {
   "cell_type": "markdown",
   "metadata": {},
   "source": [
    "## (A) Using `region` (Not used)"
   ]
  },
  {
   "cell_type": "markdown",
   "metadata": {},
   "source": [
    "### Creating `S_region`\n",
    "Finds region in wikitext downloaded and adds it to the network (if multiple exist it takes the first region)"
   ]
  },
  {
   "cell_type": "code",
   "execution_count": null,
   "metadata": {},
   "outputs": [],
   "source": [
    "S_subfields = S.copy()\n",
    "\n",
    "region_pattern = r'\\|\\s*region\\s*=\\s*\\[\\[([^\\]]+)\\]\\]'\n",
    "nodes_to_remove = []  # Collect nodes to remove\n",
    "\n",
    "for node in list(S_subfields.nodes):\n",
    "\tnode_file_name = DOWNLOADS_DIR + \"/\" + node + \".txt\"\n",
    "\tif os.path.exists(node_file_name):\n",
    "\t\ttry:\n",
    "\t\t\twith open(node_file_name, 'r', encoding='utf-8') as f:\n",
    "\t\t\t\ttext = f.read()\n",
    "\t\t\t\tmatches = re.search(region_pattern, text)\n",
    "\t\t\t\tif matches:\n",
    "\t\t\t\t\t# Extract all individual regions from the matched string\n",
    "\t\t\t\t\tregions = re.findall(r'\\[\\[([^\\]]+)\\]\\]', matches.group(0))\n",
    "\t\t\t\t\tS_subfields.nodes[node]['region'] = regions[0]\n",
    "\t\t\t\telse:\n",
    "\t\t\t\t\tnodes_to_remove.append(node)  # Mark node for removal\n",
    "\t\texcept Exception as e:\n",
    "\t\t\tprint(f\"Error processing node {node}: {e}\")\n",
    "\telse:\n",
    "\t\tnodes_to_remove.append(node)  # Mark node for removal if file does not exist\n",
    "S_subfields.remove_nodes_from(nodes_to_remove)"
   ]
  },
  {
   "cell_type": "code",
   "execution_count": null,
   "metadata": {},
   "outputs": [
    {
     "name": "stdout",
     "output_type": "stream",
     "text": [
      "Original graph:  DiGraph with 1366 nodes and 10850 edges\n",
      "Region graph:  DiGraph with 557 nodes and 4415 edges\n",
      "('Anaximander', {'contentlength': 7671, 'region': 'Western philosophy'})\n"
     ]
    }
   ],
   "source": [
    "print(\"Original graph: \", S)\n",
    "print(\"Region graph: \", S_subfields)\n",
    "print(list(S_subfields.nodes(data=True))[143])"
   ]
  },
  {
   "cell_type": "markdown",
   "metadata": {},
   "source": [
    "### Generating the communities"
   ]
  },
  {
   "cell_type": "code",
   "execution_count": null,
   "metadata": {},
   "outputs": [
    {
     "name": "stdout",
     "output_type": "stream",
     "text": [
      "Region communities with length:\n",
      "Region: Western philosophy, Length: 496\n",
      "Region: Russian philosophy, Length: 10\n",
      "Region: Persia, Length: 2\n",
      "Region: Western Philosophy, Length: 3\n",
      "Region: Western philosophy|Western, Length: 1\n",
      "Region: Jewish philosophy, Length: 2\n",
      "Region: East Asian philosophy, Length: 1\n",
      "Region: Indian philosophy, Length: 1\n",
      "Region: Greater Iran|Persia, Length: 1\n",
      "Region: Eastern philosophy, Length: 5\n",
      "Region: Chinese philosophy, Length: 6\n",
      "Region: British Unitarianism, Length: 1\n",
      "Region: Africana philosophy, Length: 1\n",
      "Region: Middle Eastern philosophy, Length: 4\n",
      "Region: Teng (state)|Teng, Length: 1\n",
      "Region: Mithila region, Length: 1\n",
      "Region: Middle East, Length: 1\n",
      "Region: Greek philosophy, Length: 1\n",
      "Region: Islamic philosophy, Length: 3\n",
      "Region: Byzantine Empire, Length: 1\n",
      "Region: Roman Egypt, Length: 1\n",
      "Region: Spanish philosophy, Length: 1\n",
      "Region: Al-Andalus, Length: 1\n",
      "Region: African philosophy, Length: 1\n",
      "Region: Ancient Greek philosophy, Length: 1\n",
      "Region: German philosophy, Length: 1\n",
      "Region: Safavid Persia, Length: 1\n",
      "Region: Christian philosophy, Length: 1\n",
      "Region: Balkans, Length: 1\n",
      "Region: Seljuq Empire, Length: 1\n",
      "Region: Austria, Length: 1\n",
      "Region: Ancient philosophy, Length: 1\n",
      "Region: Japanese philosophy, Length: 1\n",
      "Region: American philosophy, Length: 2\n"
     ]
    }
   ],
   "source": [
    "region_partition = {}\n",
    "\n",
    "for node, data in S_subfields.nodes(data=True):\n",
    "\t\tgenre = data.get('region')\n",
    "\t\tif genre not in region_partition:\n",
    "\t\t\tregion_partition[genre] = []\n",
    "\t\tregion_partition[genre].append(node)\n",
    "\n",
    "print(\"Region communities with length:\")\n",
    "for genre, nodes in region_partition.items():\n",
    "\t\tprint(f\"Region: {genre}, Length: {len(nodes)}\")"
   ]
  },
  {
   "cell_type": "markdown",
   "metadata": {},
   "source": [
    "Only western philosophy is the big one."
   ]
  },
  {
   "cell_type": "markdown",
   "metadata": {},
   "source": [
    "## (B) Using `subfield`\n",
    "https://en.wikipedia.org/wiki/Lists_of_philosophers"
   ]
  },
  {
   "cell_type": "markdown",
   "metadata": {},
   "source": [
    "### (B.1) Extracting subfield information"
   ]
  },
  {
   "cell_type": "markdown",
   "metadata": {},
   "source": [
    "- Option 1: **Fetch the data from Wikipedia** (takes around 5 seconds)"
   ]
  },
  {
   "cell_type": "code",
   "execution_count": 11,
   "metadata": {},
   "outputs": [
    {
     "name": "stdout",
     "output_type": "stream",
     "text": [
      "- aestheticians: 86\n",
      "- critical theorists: 107\n",
      "- environmental philosophers: 80\n",
      "- epistemologists: 122\n",
      "- ethicists: 287\n",
      "- existentialists: 60\n",
      "- feminist philosophers: 134\n",
      "- secular humanists: 413\n",
      "- logicians: 291\n",
      "- metaphysicians: 184\n",
      "- sociopolitical thinkers: 245\n",
      "- phenomenologists: 24\n",
      "- philosophers of language: 141\n",
      "- philosophers of mind: 140\n",
      "- philosophers of religion: 110\n",
      "- philosophers of science: 111\n",
      "- political philosophers: 199\n",
      "- political theorists: 137\n",
      "- rationalists: 27\n",
      "- utilitarians: 104\n",
      "Total = 2183\n"
     ]
    }
   ],
   "source": [
    "subfield_links = [\n",
    "\t\t\"List of aestheticians\",\n",
    "\t\t\"List of critical theorists\",\n",
    "\t\t\"List of environmental philosophers\",\n",
    "\t\t\"List of epistemologists\",\n",
    "\t\t\"List of ethicists\",\n",
    "\t\t\"List of existentialists\",\n",
    "\t\t\"List of feminist philosophers\",\n",
    "\t\t\"List of secular humanists\", #List of Humanists redirect\n",
    "\t\t\"List of logicians\",\n",
    "\t\t\"List of metaphysicians\",\n",
    "\t\t\"Index of sociopolitical thinkers\", #List of Social and Political Philosophers redirect\n",
    "\t\t\"List of phenomenologists\",\n",
    "\t\t\"List of philosophers of language\",\n",
    "\t\t\"List of philosophers of mind\",\n",
    "\t\t\"List of philosophers of religion\",\n",
    "\t\t\"List of philosophers of science\",\n",
    "\t\t\"List of political philosophers\",\n",
    "\t\t\"List of political theorists\",\n",
    "\t\t\"List of rationalists\",\n",
    "\t\t\"List of utilitarians\"\n",
    "]\n",
    "replace_terms_subfields = [(\"List of\", \"\"), (\"Index of\", \"\")]\n",
    "clean_subfield_data, philosopher_subfield_info = get_category_data(\n",
    "    subfield_links, replace_terms_subfields, verbose=True\n",
    ")\n",
    "pickle.dump(philosopher_subfield_info, open(\"philosopher_subfield_info.pkl\", \"wb\")) # Saved as local version for later use\n",
    "\n",
    "print(\"Total =\", len(philosopher_subfield_info))"
   ]
  },
  {
   "cell_type": "markdown",
   "metadata": {},
   "source": [
    "- Option 2: **Use local pickle file** from last time option 1 was run"
   ]
  },
  {
   "cell_type": "code",
   "execution_count": 12,
   "metadata": {},
   "outputs": [],
   "source": [
    "philosopher_subfield_info = pickle.load(open(\"philosopher_subfield_info.pkl\", \"rb\"))"
   ]
  },
  {
   "cell_type": "markdown",
   "metadata": {},
   "source": [
    "### (B.2) Creating `S.subfields` network"
   ]
  },
  {
   "cell_type": "code",
   "execution_count": 20,
   "metadata": {},
   "outputs": [
    {
     "name": "stdout",
     "output_type": "stream",
     "text": [
      "Did not find subfields for: 771 philosophers (therefore not included in the filtered graph)\n",
      " -> Example of removed nodes: ['John_Selden', 'John_Maynard_Keynes', 'Thomas_of_York_(Franciscan)']\n",
      "Original graph: 1366 nodes and 10855 edges\n",
      "Filtered 'subfields' graph: 595 nodes and 5211 edges\n",
      "Subfield graph:  DiGraph with 595 nodes and 5211 edges\n",
      "--------------------------------------------------\n",
      "Number of nodes by subfields:\n",
      " -> epistemologists: 78\n",
      " -> ethicists: 115\n",
      " -> philosophers of religion: 49\n",
      " -> logicians: 89\n",
      " -> metaphysicians: 118\n",
      " -> philosophers of language: 68\n",
      " -> sociopolitical thinkers: 131\n",
      " -> philosophers of mind: 57\n",
      " -> utilitarians: 29\n",
      " -> political philosophers: 135\n",
      " -> aestheticians: 51\n",
      " -> existentialists: 7\n",
      " -> feminist philosophers: 23\n",
      " -> political theorists: 73\n",
      " -> philosophers of science: 45\n",
      " -> critical theorists: 41\n",
      " -> secular humanists: 34\n",
      " -> phenomenologists: 11\n",
      " -> rationalists: 17\n",
      " -> environmental philosophers: 8\n",
      "--------------------------------------------------\n"
     ]
    }
   ],
   "source": [
    "S_subfields = filter_graph_by_attribute(\n",
    "    graph=S,\n",
    "    attribute_info=philosopher_subfield_info,\n",
    "    attribute_name='subfields',\n",
    "    verbose=True\n",
    ")\n",
    "print(\"Subfield graph: \", S_subfields)\n",
    "print(\"-\"*50)\n",
    "count_nodes_by_attribute(S_subfields, 'subfields', verbose=True)\n",
    "print(\"-\"*50)\n"
   ]
  },
  {
   "cell_type": "markdown",
   "metadata": {},
   "source": [
    "## (C) Using `tradition` (western/eastern divide)"
   ]
  },
  {
   "cell_type": "markdown",
   "metadata": {},
   "source": [
    "### (C.1) Extracting information from wikipedia"
   ]
  },
  {
   "cell_type": "markdown",
   "metadata": {},
   "source": [
    "- Option 1: Extract from wikipedia"
   ]
  },
  {
   "cell_type": "code",
   "execution_count": 14,
   "metadata": {},
   "outputs": [
    {
     "name": "stdout",
     "output_type": "stream",
     "text": [
      "- Eastern philosophers: 343\n",
      "- Western philosophers: 565\n",
      "Total = 893\n"
     ]
    }
   ],
   "source": [
    "tradition_links = [\n",
    "\t\"Timeline of Eastern philosophers\",\n",
    "\t\"Timeline of Western philosophers\"\n",
    "]\n",
    "\n",
    "replace_terms_traditions = [(\"Timeline of\", \"\")]\n",
    "clean_tradition_data, philosopher_tradition_info = get_category_data(\n",
    "    tradition_links, replace_terms_traditions, verbose=True\n",
    ")\n",
    "pickle.dump(philosopher_tradition_info, open(\"philosopher_tradition_info.pkl\", \"wb\")) # Saved as local version for later use\n",
    "print(\"Total =\", len(philosopher_tradition_info))"
   ]
  },
  {
   "cell_type": "markdown",
   "metadata": {},
   "source": [
    "- Option 2: **Use local pickle file** from last time option 1 was run"
   ]
  },
  {
   "cell_type": "code",
   "execution_count": 15,
   "metadata": {},
   "outputs": [],
   "source": [
    "philosopher_tradition_info = pickle.load(open(\"philosopher_tradition_info.pkl\", \"rb\"))"
   ]
  },
  {
   "cell_type": "markdown",
   "metadata": {},
   "source": [
    "### (C.2) Creating `S_tradition` network"
   ]
  },
  {
   "cell_type": "code",
   "execution_count": 16,
   "metadata": {},
   "outputs": [
    {
     "name": "stdout",
     "output_type": "stream",
     "text": [
      "Did not find tradition for: 1020 philosophers (therefore not included in the filtered graph)\n",
      " -> Example of removed nodes: ['John_Selden', 'John_Maynard_Keynes', 'Thomas_of_York_(Franciscan)']\n",
      "Original graph: 1366 nodes and 10855 edges\n",
      "Filtered 'tradition' graph: 346 nodes and 3202 edges\n",
      "--------------------------------------------------\n",
      "Number of nodes by tradition:\n",
      " -> Western philosophers: 279\n",
      " -> Eastern philosophers: 69\n",
      "--------------------------------------------------\n"
     ]
    }
   ],
   "source": [
    "S_tradition = filter_graph_by_attribute(\n",
    "    graph=S,\n",
    "    attribute_info=philosopher_tradition_info,\n",
    "    attribute_name='tradition',\n",
    "    verbose=True\n",
    ")\n",
    "\n",
    "print(\"-\"*50)\n",
    "count_nodes_by_attribute(S_tradition, 'tradition', verbose=True)\n",
    "print(\"-\"*50)"
   ]
  },
  {
   "cell_type": "markdown",
   "metadata": {},
   "source": [
    "# Partitioning"
   ]
  },
  {
   "cell_type": "markdown",
   "metadata": {},
   "source": [
    "## Imports and definitions"
   ]
  },
  {
   "cell_type": "code",
   "execution_count": null,
   "metadata": {},
   "outputs": [],
   "source": [
    "# Install community package if not already installed\n",
    "# pip install community"
   ]
  },
  {
   "cell_type": "code",
   "execution_count": 48,
   "metadata": {},
   "outputs": [
    {
     "ename": "ImportError",
     "evalue": "cannot import name 'community_louvain' from 'community' (/Users/kevinmoore/anaconda3/lib/python3.11/site-packages/community/__init__.py)",
     "output_type": "error",
     "traceback": [
      "\u001b[0;31m---------------------------------------------------------------------------\u001b[0m",
      "\u001b[0;31mImportError\u001b[0m                               Traceback (most recent call last)",
      "Cell \u001b[0;32mIn[48], line 1\u001b[0m\n\u001b[0;32m----> 1\u001b[0m \u001b[38;5;28;01mfrom\u001b[39;00m \u001b[38;5;21;01mcommunity\u001b[39;00m \u001b[38;5;28;01mimport\u001b[39;00m community_louvain\n\u001b[1;32m      3\u001b[0m \u001b[38;5;28;01mdef\u001b[39;00m \u001b[38;5;21mcreate_partition_using_attribute\u001b[39m(graph, attribute_name):\n\u001b[1;32m      4\u001b[0m \tpartition \u001b[38;5;241m=\u001b[39m {}\n",
      "\u001b[0;31mImportError\u001b[0m: cannot import name 'community_louvain' from 'community' (/Users/kevinmoore/anaconda3/lib/python3.11/site-packages/community/__init__.py)"
     ]
    }
   ],
   "source": [
    "from community import community_louvain\n",
    "\n",
    "def create_partition_using_attribute(graph, attribute_name):\n",
    "\tpartition = {}\n",
    "\tfor node, data in graph.nodes(data=True):\n",
    "\t\tattribute = data.get(attribute_name)\n",
    "\t\tif isinstance(attribute, list):\n",
    "\t\t\tattribute = attribute[0]\n",
    "\t\tif attribute not in partition:\n",
    "\t\t\t\tpartition[attribute] = []\n",
    "\t\tpartition[attribute].append(node)\n",
    "\treturn partition"
   ]
  },
  {
   "cell_type": "markdown",
   "metadata": {},
   "source": [
    "## `S_subfields`"
   ]
  },
  {
   "cell_type": "markdown",
   "metadata": {},
   "source": [
    "Each node is characterized by the first `subfield` if there are multiple."
   ]
  },
  {
   "cell_type": "code",
   "execution_count": 43,
   "metadata": {},
   "outputs": [],
   "source": [
    "subfields_partition = create_partition_using_attribute(S_subfields, 'subfields')"
   ]
  },
  {
   "cell_type": "markdown",
   "metadata": {},
   "source": [
    "## `S_tradition`"
   ]
  },
  {
   "cell_type": "code",
   "execution_count": 45,
   "metadata": {},
   "outputs": [],
   "source": [
    "tradition_partition = create_partition_using_attribute(S_tradition, 'tradition')"
   ]
  }
 ],
 "metadata": {
  "kernelspec": {
   "display_name": "base",
   "language": "python",
   "name": "python3"
  },
  "language_info": {
   "codemirror_mode": {
    "name": "ipython",
    "version": 3
   },
   "file_extension": ".py",
   "mimetype": "text/x-python",
   "name": "python",
   "nbconvert_exporter": "python",
   "pygments_lexer": "ipython3",
   "version": "3.11.5"
  }
 },
 "nbformat": 4,
 "nbformat_minor": 2
}
